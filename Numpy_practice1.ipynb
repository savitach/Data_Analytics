{
  "nbformat": 4,
  "nbformat_minor": 0,
  "metadata": {
    "colab": {
      "provenance": []
    },
    "kernelspec": {
      "name": "python3",
      "display_name": "Python 3"
    },
    "language_info": {
      "name": "python"
    }
  },
  "cells": [
    {
      "cell_type": "code",
      "source": [
        "#Practice Exercise:\n",
        "#Store the marks and IDs of three students as NumPy arrays. The marks are [20, 30, 40] and IDs are [0,2,4]. Store array for marks in a variable marks and the one for IDs in another variable ids. Display both marks and ids.\n",
        "\n",
        "#Given two NumPy arrays arr1 = [25, 56, 12, 85, 34, 75] and arr2 = [42, 3, 86, 32, 856, 46], solve the following:\n",
        "\n",
        "#a. Create a new NumPy array Narr with the shape equal to arr1 filled with random values.\n",
        "\n",
        "#b. Permanently change the dtype of arr1 to complex\n",
        "\n",
        "#Hint: Use np.random.rand() Use astype().\n",
        "\n",
        "#Answer: [ 25.+0.j 56.+0.j 12.+0.j 85.+0.j 34.+0.j 75.+0.j]"
      ],
      "metadata": {
        "id": "fkhXgvi-_YiJ"
      },
      "execution_count": null,
      "outputs": []
    },
    {
      "cell_type": "code",
      "execution_count": null,
      "metadata": {
        "colab": {
          "base_uri": "https://localhost:8080/"
        },
        "id": "OpoVRx2j2rW6",
        "outputId": "673a326e-206a-4143-c288-c45e53f5bc92"
      },
      "outputs": [
        {
          "output_type": "stream",
          "name": "stdout",
          "text": [
            "[20 30 40]\n",
            "[0 2 4]\n"
          ]
        }
      ],
      "source": [
        "#Store array for marks in a variable marks and  IDs in variable ids. Display both marks and ids.\n",
        "import numpy as np\n",
        "import random\n",
        "\n",
        "l1=[20,30,40]\n",
        "l2=[0,2,4]\n",
        "marks=np.array(l1)\n",
        "Ids=np.array(l2)\n",
        "print(marks)\n",
        "print(Ids)\n"
      ]
    },
    {
      "cell_type": "code",
      "source": [
        "# Create a new NumPy array Narr with the shape equal to arr1 filled with random values.\n",
        "arr1 = [25, 56, 12, 85, 34, 75]\n",
        "arr2 = [42, 3, 86, 32, 856, 46]\n",
        "Narr1=np.array(arr1)\n",
        "Narr2=np.array(arr2)\n",
        "np.random.rand()\n",
        "narr=np.random.randint(100, size=(6))\n",
        "print(narr)"
      ],
      "metadata": {
        "colab": {
          "base_uri": "https://localhost:8080/"
        },
        "id": "dFyEO1yT4GlU",
        "outputId": "408be42f-d7eb-4cea-ea43-a71e9df1b515"
      },
      "execution_count": null,
      "outputs": [
        {
          "output_type": "stream",
          "name": "stdout",
          "text": [
            "[33 62 82  3 32 86]\n"
          ]
        }
      ]
    },
    {
      "cell_type": "code",
      "source": [
        "#Permanently change the dtype of arr1 to complex\n",
        "array1=Narr1.astype(dtype=complex)\n",
        "print(array1)\n"
      ],
      "metadata": {
        "colab": {
          "base_uri": "https://localhost:8080/"
        },
        "id": "ZlRRri_Z-U3-",
        "outputId": "4db3e41b-8f89-4409-de47-54cb69a2b2fb"
      },
      "execution_count": null,
      "outputs": [
        {
          "output_type": "stream",
          "name": "stdout",
          "text": [
            "[25.+0.j 56.+0.j 12.+0.j 85.+0.j 34.+0.j 75.+0.j]\n"
          ]
        }
      ]
    },
    {
      "cell_type": "code",
      "source": [],
      "metadata": {
        "id": "p0gCHgPTJ8iI"
      },
      "execution_count": null,
      "outputs": []
    }
  ]
}