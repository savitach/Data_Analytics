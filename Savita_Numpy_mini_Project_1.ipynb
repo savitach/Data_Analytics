{
  "nbformat": 4,
  "nbformat_minor": 0,
  "metadata": {
    "colab": {
      "provenance": []
    },
    "kernelspec": {
      "name": "python3",
      "display_name": "Python 3"
    },
    "language_info": {
      "name": "python"
    }
  },
  "cells": [
    {
      "cell_type": "markdown",
      "source": [
        "**Project-1**\n",
        "Let us build a project to learn more about NumPy:\n",
        "\n",
        "Features of the data set:\n",
        "\n",
        "Age: Age of the person\n",
        "\n",
        "education-num: No. of years of education they had\n",
        "\n",
        "race: Person's race 0 - Amer-Indian-Eskimo\n",
        "1 - Asian-Pac-Islander\n",
        "2 - Black\n",
        "3 - Other\n",
        "4 - White\n",
        "\n",
        "sex: Person's gender 0 - Female\n",
        "1 - Male\n",
        "\n",
        "capital-gain: Income from investment sources, apart from wages/salary\n",
        "\n",
        "capital loss: Losses from investment sources, apart from wages/salary\n",
        "\n",
        "hours-per-week: No. of hours per week the person works\n",
        "\n",
        "income: Annual Income of the person\n",
        "0 : Less than or equal to 50K\n",
        "1 : More than 50K"
      ],
      "metadata": {
        "id": "rzx4mla0hu2Q"
      }
    },
    {
      "cell_type": "markdown",
      "source": [
        "**Step 1 : Import the Numpy Library & Read the data file.**"
      ],
      "metadata": {
        "id": "Zqo-ptBriCnZ"
      }
    },
    {
      "cell_type": "code",
      "source": [
        "import numpy as np"
      ],
      "metadata": {
        "id": "dJTs_QC6iIY4"
      },
      "execution_count": 42,
      "outputs": []
    },
    {
      "cell_type": "code",
      "source": [
        "data_file='/content/makeSenseOfCensus.csv'"
      ],
      "metadata": {
        "id": "xcs1QlPYilTK"
      },
      "execution_count": 43,
      "outputs": []
    },
    {
      "cell_type": "markdown",
      "source": [
        "**Step 2: Load the data.**"
      ],
      "metadata": {
        "id": "_CBy21zii8mJ"
      }
    },
    {
      "cell_type": "code",
      "source": [
        "data=np.genfromtxt(data_file,delimiter=',',skip_header=1)"
      ],
      "metadata": {
        "id": "AWst1o4CjBlw"
      },
      "execution_count": 44,
      "outputs": []
    },
    {
      "cell_type": "code",
      "source": [
        "#print the data & type of data\n",
        "print(data)\n",
        "type(data)"
      ],
      "metadata": {
        "colab": {
          "base_uri": "https://localhost:8080/"
        },
        "id": "lQzfXcfbkkri",
        "outputId": "908964b2-06f5-4f4f-835c-d773ee04941e"
      },
      "execution_count": 45,
      "outputs": [
        {
          "output_type": "stream",
          "name": "stdout",
          "text": [
            "[[39. 13.  4. ...  0. 40.  0.]\n",
            " [50. 13.  4. ...  0. 13.  0.]\n",
            " [38.  9.  4. ...  0. 40.  0.]\n",
            " ...\n",
            " [48. 13.  4. ...  0. 58.  1.]\n",
            " [40. 10.  4. ...  0. 40.  0.]\n",
            " [39. 13.  4. ...  0. 50.  1.]]\n"
          ]
        },
        {
          "output_type": "execute_result",
          "data": {
            "text/plain": [
              "numpy.ndarray"
            ]
          },
          "metadata": {},
          "execution_count": 45
        }
      ]
    },
    {
      "cell_type": "markdown",
      "source": [
        "**Step 3:Append the data.**\n",
        "  **Append 'new_record' (given) to 'data' using \"np.concatenate()\".**   \n",
        "        **new_record=[[50, 9, 4, 1, 0, 0, 40, 0]]**"
      ],
      "metadata": {
        "id": "s-n4PeRVlgql"
      }
    },
    {
      "cell_type": "code",
      "source": [
        "new_record=[[50, 9, 4, 1, 0, 0, 40, 0]]\n",
        "df=np.concatenate((data,new_record))\n",
        "df"
      ],
      "metadata": {
        "colab": {
          "base_uri": "https://localhost:8080/"
        },
        "id": "aA8bYd0Glylu",
        "outputId": "40ab7545-b502-4328-9d4b-cee3387d08e9"
      },
      "execution_count": 46,
      "outputs": [
        {
          "output_type": "execute_result",
          "data": {
            "text/plain": [
              "array([[39., 13.,  4., ...,  0., 40.,  0.],\n",
              "       [50., 13.,  4., ...,  0., 13.,  0.],\n",
              "       [38.,  9.,  4., ...,  0., 40.,  0.],\n",
              "       ...,\n",
              "       [40., 10.,  4., ...,  0., 40.,  0.],\n",
              "       [39., 13.,  4., ...,  0., 50.,  1.],\n",
              "       [50.,  9.,  4., ...,  0., 40.,  0.]])"
            ]
          },
          "metadata": {},
          "execution_count": 46
        }
      ]
    },
    {
      "cell_type": "markdown",
      "source": [
        "**Step 4 : Check if it's a young country or old country.**\n",
        "          \n",
        "    4.1 Create a new array called 'age' by taking only age column.\n",
        "    (age is the column with index 0) of 'census' array.\n",
        "    4.2 Find the max age and store it in a variable called 'max_age'.      \n",
        "    4.3 Find the min age and store it in a variable called 'min_age'.\n",
        "    4.4 Find the mean of the age and store it in a variable    \n",
        "    called'age_mean'.\n",
        "    4.5 Find the standard deviation of the age and store it in a            \n",
        "    variable called 'age_std'\n",
        "\n",
        "\n"
      ],
      "metadata": {
        "id": "682UrRecmhKx"
      }
    },
    {
      "cell_type": "markdown",
      "source": [
        "**4.1 Create a new array called 'age' by taking only age column(age is  \n",
        "              the column with index 0) of 'census' array.**"
      ],
      "metadata": {
        "id": "CuEssRapgUo2"
      }
    },
    {
      "cell_type": "code",
      "source": [
        "#new Array age creation \n",
        "age=df[ : ,0]\n",
        "age"
      ],
      "metadata": {
        "colab": {
          "base_uri": "https://localhost:8080/"
        },
        "id": "OoLHmTBNnaUG",
        "outputId": "a86ba07f-a49a-4628-c460-3b7d51dc3ad9"
      },
      "execution_count": 47,
      "outputs": [
        {
          "output_type": "execute_result",
          "data": {
            "text/plain": [
              "array([39., 50., 38., ..., 40., 39., 50.])"
            ]
          },
          "metadata": {},
          "execution_count": 47
        }
      ]
    },
    {
      "cell_type": "code",
      "source": [
        "# find the length of age\n",
        "len(age)"
      ],
      "metadata": {
        "colab": {
          "base_uri": "https://localhost:8080/"
        },
        "id": "QgM0b3RDniO6",
        "outputId": "90fa900a-83ce-4d16-c779-648c90e00a05"
      },
      "execution_count": 48,
      "outputs": [
        {
          "output_type": "execute_result",
          "data": {
            "text/plain": [
              "1001"
            ]
          },
          "metadata": {},
          "execution_count": 48
        }
      ]
    },
    {
      "cell_type": "markdown",
      "source": [
        "**4.2 Find the max age and store it in a variable called 'max_age.**"
      ],
      "metadata": {
        "id": "dYy0ElFKodky"
      }
    },
    {
      "cell_type": "code",
      "source": [
        "max_age=age.max()"
      ],
      "metadata": {
        "id": "pVNfNIKcois-"
      },
      "execution_count": 49,
      "outputs": []
    },
    {
      "cell_type": "code",
      "source": [
        "print(\"The max age is \",max_age)"
      ],
      "metadata": {
        "id": "gDktIawbbsNa",
        "colab": {
          "base_uri": "https://localhost:8080/"
        },
        "outputId": "12e5f3a9-57e3-4da6-e33d-38b1077ec5e7"
      },
      "execution_count": 50,
      "outputs": [
        {
          "output_type": "stream",
          "name": "stdout",
          "text": [
            "The max age is  90.0\n"
          ]
        }
      ]
    },
    {
      "cell_type": "markdown",
      "source": [
        "**4.3 Find the min age and store it in a variable called 'min_age'.**"
      ],
      "metadata": {
        "id": "sTQsqcKpgqI7"
      }
    },
    {
      "cell_type": "code",
      "source": [
        "min_age=age.min()\n",
        "print(\"The Min age is \",min_age)"
      ],
      "metadata": {
        "colab": {
          "base_uri": "https://localhost:8080/"
        },
        "id": "QlUODA4XgpKK",
        "outputId": "db5afd3e-fc5d-4816-8047-c2897899942e"
      },
      "execution_count": 51,
      "outputs": [
        {
          "output_type": "stream",
          "name": "stdout",
          "text": [
            "The Min age is  17.0\n"
          ]
        }
      ]
    },
    {
      "cell_type": "markdown",
      "source": [
        "**4.4 Find the mean of the age and store it in a variable called 'age_mean'.**"
      ],
      "metadata": {
        "id": "PBmMHHLxhvIf"
      }
    },
    {
      "cell_type": "code",
      "source": [
        "age_mean=age.mean()\n",
        "print(\"The mean of age is \",age_mean)"
      ],
      "metadata": {
        "colab": {
          "base_uri": "https://localhost:8080/"
        },
        "id": "qkRhUOZ7hzCX",
        "outputId": "43317fe8-b0d1-4beb-9567-a1e21410bbce"
      },
      "execution_count": 52,
      "outputs": [
        {
          "output_type": "stream",
          "name": "stdout",
          "text": [
            "The mean of age is  38.06293706293706\n"
          ]
        }
      ]
    },
    {
      "cell_type": "markdown",
      "source": [
        "**4.5 Find the standard deviation of the age and store it in a variable called 'age_std'**"
      ],
      "metadata": {
        "id": "8-5-EGqWiC12"
      }
    },
    {
      "cell_type": "code",
      "source": [
        "age_std=np.std(age)\n",
        "print(\"The standard deviation of the age is \",age_std)"
      ],
      "metadata": {
        "colab": {
          "base_uri": "https://localhost:8080/"
        },
        "id": "-hELu6YviJz_",
        "outputId": "61b8bfb4-db38-41ae-8494-6670e0a39121"
      },
      "execution_count": 53,
      "outputs": [
        {
          "output_type": "stream",
          "name": "stdout",
          "text": [
            "The standard deviation of the age is  13.341478176165857\n"
          ]
        }
      ]
    },
    {
      "cell_type": "markdown",
      "source": [
        "**Step 5: Let's check the country's race distribution to identify the minorities.**\n"
      ],
      "metadata": {
        "id": "frQz2ZoPimgh"
      }
    },
    {
      "cell_type": "markdown",
      "source": [
        "**5.1 Create four different arrays by subsetting 'census' array by Race column(Race is the column with index 2) and save them in 'race_0','race_1', 'race_2', 'race_3' and 'race_4' respectively(Meaning: Store the array where 'race'column has value 0 in 'race_0', so on and so forth).**\n",
        "\n"
      ],
      "metadata": {
        "id": "SR7ko2Sgiu7x"
      }
    },
    {
      "cell_type": "code",
      "source": [
        "race=df[:,2]"
      ],
      "metadata": {
        "id": "jPefg79ojWn-"
      },
      "execution_count": 54,
      "outputs": []
    },
    {
      "cell_type": "code",
      "source": [
        "race"
      ],
      "metadata": {
        "colab": {
          "base_uri": "https://localhost:8080/"
        },
        "id": "zES3fMEHjb6K",
        "outputId": "0f0afacf-fdd2-4036-8a87-af67bcbc8eb6"
      },
      "execution_count": 55,
      "outputs": [
        {
          "output_type": "execute_result",
          "data": {
            "text/plain": [
              "array([4., 4., 4., ..., 4., 4., 4.])"
            ]
          },
          "metadata": {},
          "execution_count": 55
        }
      ]
    },
    {
      "cell_type": "code",
      "source": [
        "race_0 = race[race == 0]\n",
        "race_1 = race[race == 1]\n",
        "race_2 = race[race == 2]\n",
        "race_3 = race[race == 3]\n",
        "race_4 = race[race == 4]"
      ],
      "metadata": {
        "id": "XTHawAETjeoO"
      },
      "execution_count": 56,
      "outputs": []
    },
    {
      "cell_type": "code",
      "source": [
        "race_0"
      ],
      "metadata": {
        "colab": {
          "base_uri": "https://localhost:8080/"
        },
        "id": "2GtbnvkOjsFC",
        "outputId": "ede51780-1953-4157-da99-51a12f062d6f"
      },
      "execution_count": 57,
      "outputs": [
        {
          "output_type": "execute_result",
          "data": {
            "text/plain": [
              "array([0., 0., 0., 0., 0., 0., 0., 0., 0., 0.])"
            ]
          },
          "metadata": {},
          "execution_count": 57
        }
      ]
    },
    {
      "cell_type": "code",
      "source": [
        "race_1"
      ],
      "metadata": {
        "colab": {
          "base_uri": "https://localhost:8080/"
        },
        "id": "7ebCFgwpji_2",
        "outputId": "a3246b2f-faf4-4989-8cb9-b40754274f31"
      },
      "execution_count": 58,
      "outputs": [
        {
          "output_type": "execute_result",
          "data": {
            "text/plain": [
              "array([1., 1., 1., 1., 1., 1., 1., 1., 1., 1., 1., 1., 1., 1., 1., 1., 1.,\n",
              "       1., 1., 1., 1., 1., 1., 1., 1., 1., 1.])"
            ]
          },
          "metadata": {},
          "execution_count": 58
        }
      ]
    },
    {
      "cell_type": "code",
      "source": [
        "race_2"
      ],
      "metadata": {
        "colab": {
          "base_uri": "https://localhost:8080/"
        },
        "id": "B7N4YjVWjx_k",
        "outputId": "2f08f99d-b63a-4fdf-d159-169b91b25b2d"
      },
      "execution_count": 59,
      "outputs": [
        {
          "output_type": "execute_result",
          "data": {
            "text/plain": [
              "array([2., 2., 2., 2., 2., 2., 2., 2., 2., 2., 2., 2., 2., 2., 2., 2., 2.,\n",
              "       2., 2., 2., 2., 2., 2., 2., 2., 2., 2., 2., 2., 2., 2., 2., 2., 2.,\n",
              "       2., 2., 2., 2., 2., 2., 2., 2., 2., 2., 2., 2., 2., 2., 2., 2., 2.,\n",
              "       2., 2., 2., 2., 2., 2., 2., 2., 2., 2., 2., 2., 2., 2., 2., 2., 2.,\n",
              "       2., 2., 2., 2., 2., 2., 2., 2., 2., 2., 2., 2., 2., 2., 2., 2., 2.,\n",
              "       2., 2., 2., 2., 2., 2., 2., 2., 2., 2., 2., 2., 2., 2., 2., 2., 2.,\n",
              "       2., 2., 2., 2., 2., 2., 2., 2.])"
            ]
          },
          "metadata": {},
          "execution_count": 59
        }
      ]
    },
    {
      "cell_type": "code",
      "source": [
        "race_3"
      ],
      "metadata": {
        "colab": {
          "base_uri": "https://localhost:8080/"
        },
        "id": "4FvBPVH5j1Is",
        "outputId": "4f3ba7d4-86ba-437b-cb52-09eca3de928c"
      },
      "execution_count": 60,
      "outputs": [
        {
          "output_type": "execute_result",
          "data": {
            "text/plain": [
              "array([3., 3., 3., 3., 3., 3.])"
            ]
          },
          "metadata": {},
          "execution_count": 60
        }
      ]
    },
    {
      "cell_type": "code",
      "source": [
        "race_4"
      ],
      "metadata": {
        "colab": {
          "base_uri": "https://localhost:8080/"
        },
        "id": "bIwM5dHgj5gj",
        "outputId": "15c54916-6343-4ef7-e399-e09ed657bd3c"
      },
      "execution_count": 61,
      "outputs": [
        {
          "output_type": "execute_result",
          "data": {
            "text/plain": [
              "array([4., 4., 4., 4., 4., 4., 4., 4., 4., 4., 4., 4., 4., 4., 4., 4., 4.,\n",
              "       4., 4., 4., 4., 4., 4., 4., 4., 4., 4., 4., 4., 4., 4., 4., 4., 4.,\n",
              "       4., 4., 4., 4., 4., 4., 4., 4., 4., 4., 4., 4., 4., 4., 4., 4., 4.,\n",
              "       4., 4., 4., 4., 4., 4., 4., 4., 4., 4., 4., 4., 4., 4., 4., 4., 4.,\n",
              "       4., 4., 4., 4., 4., 4., 4., 4., 4., 4., 4., 4., 4., 4., 4., 4., 4.,\n",
              "       4., 4., 4., 4., 4., 4., 4., 4., 4., 4., 4., 4., 4., 4., 4., 4., 4.,\n",
              "       4., 4., 4., 4., 4., 4., 4., 4., 4., 4., 4., 4., 4., 4., 4., 4., 4.,\n",
              "       4., 4., 4., 4., 4., 4., 4., 4., 4., 4., 4., 4., 4., 4., 4., 4., 4.,\n",
              "       4., 4., 4., 4., 4., 4., 4., 4., 4., 4., 4., 4., 4., 4., 4., 4., 4.,\n",
              "       4., 4., 4., 4., 4., 4., 4., 4., 4., 4., 4., 4., 4., 4., 4., 4., 4.,\n",
              "       4., 4., 4., 4., 4., 4., 4., 4., 4., 4., 4., 4., 4., 4., 4., 4., 4.,\n",
              "       4., 4., 4., 4., 4., 4., 4., 4., 4., 4., 4., 4., 4., 4., 4., 4., 4.,\n",
              "       4., 4., 4., 4., 4., 4., 4., 4., 4., 4., 4., 4., 4., 4., 4., 4., 4.,\n",
              "       4., 4., 4., 4., 4., 4., 4., 4., 4., 4., 4., 4., 4., 4., 4., 4., 4.,\n",
              "       4., 4., 4., 4., 4., 4., 4., 4., 4., 4., 4., 4., 4., 4., 4., 4., 4.,\n",
              "       4., 4., 4., 4., 4., 4., 4., 4., 4., 4., 4., 4., 4., 4., 4., 4., 4.,\n",
              "       4., 4., 4., 4., 4., 4., 4., 4., 4., 4., 4., 4., 4., 4., 4., 4., 4.,\n",
              "       4., 4., 4., 4., 4., 4., 4., 4., 4., 4., 4., 4., 4., 4., 4., 4., 4.,\n",
              "       4., 4., 4., 4., 4., 4., 4., 4., 4., 4., 4., 4., 4., 4., 4., 4., 4.,\n",
              "       4., 4., 4., 4., 4., 4., 4., 4., 4., 4., 4., 4., 4., 4., 4., 4., 4.,\n",
              "       4., 4., 4., 4., 4., 4., 4., 4., 4., 4., 4., 4., 4., 4., 4., 4., 4.,\n",
              "       4., 4., 4., 4., 4., 4., 4., 4., 4., 4., 4., 4., 4., 4., 4., 4., 4.,\n",
              "       4., 4., 4., 4., 4., 4., 4., 4., 4., 4., 4., 4., 4., 4., 4., 4., 4.,\n",
              "       4., 4., 4., 4., 4., 4., 4., 4., 4., 4., 4., 4., 4., 4., 4., 4., 4.,\n",
              "       4., 4., 4., 4., 4., 4., 4., 4., 4., 4., 4., 4., 4., 4., 4., 4., 4.,\n",
              "       4., 4., 4., 4., 4., 4., 4., 4., 4., 4., 4., 4., 4., 4., 4., 4., 4.,\n",
              "       4., 4., 4., 4., 4., 4., 4., 4., 4., 4., 4., 4., 4., 4., 4., 4., 4.,\n",
              "       4., 4., 4., 4., 4., 4., 4., 4., 4., 4., 4., 4., 4., 4., 4., 4., 4.,\n",
              "       4., 4., 4., 4., 4., 4., 4., 4., 4., 4., 4., 4., 4., 4., 4., 4., 4.,\n",
              "       4., 4., 4., 4., 4., 4., 4., 4., 4., 4., 4., 4., 4., 4., 4., 4., 4.,\n",
              "       4., 4., 4., 4., 4., 4., 4., 4., 4., 4., 4., 4., 4., 4., 4., 4., 4.,\n",
              "       4., 4., 4., 4., 4., 4., 4., 4., 4., 4., 4., 4., 4., 4., 4., 4., 4.,\n",
              "       4., 4., 4., 4., 4., 4., 4., 4., 4., 4., 4., 4., 4., 4., 4., 4., 4.,\n",
              "       4., 4., 4., 4., 4., 4., 4., 4., 4., 4., 4., 4., 4., 4., 4., 4., 4.,\n",
              "       4., 4., 4., 4., 4., 4., 4., 4., 4., 4., 4., 4., 4., 4., 4., 4., 4.,\n",
              "       4., 4., 4., 4., 4., 4., 4., 4., 4., 4., 4., 4., 4., 4., 4., 4., 4.,\n",
              "       4., 4., 4., 4., 4., 4., 4., 4., 4., 4., 4., 4., 4., 4., 4., 4., 4.,\n",
              "       4., 4., 4., 4., 4., 4., 4., 4., 4., 4., 4., 4., 4., 4., 4., 4., 4.,\n",
              "       4., 4., 4., 4., 4., 4., 4., 4., 4., 4., 4., 4., 4., 4., 4., 4., 4.,\n",
              "       4., 4., 4., 4., 4., 4., 4., 4., 4., 4., 4., 4., 4., 4., 4., 4., 4.,\n",
              "       4., 4., 4., 4., 4., 4., 4., 4., 4., 4., 4., 4., 4., 4., 4., 4., 4.,\n",
              "       4., 4., 4., 4., 4., 4., 4., 4., 4., 4., 4., 4., 4., 4., 4., 4., 4.,\n",
              "       4., 4., 4., 4., 4., 4., 4., 4., 4., 4., 4., 4., 4., 4., 4., 4., 4.,\n",
              "       4., 4., 4., 4., 4., 4., 4., 4., 4., 4., 4., 4., 4., 4., 4., 4., 4.,\n",
              "       4., 4., 4., 4., 4., 4., 4., 4., 4., 4., 4., 4., 4., 4., 4., 4., 4.,\n",
              "       4., 4., 4., 4., 4., 4., 4., 4., 4., 4., 4., 4., 4., 4., 4., 4., 4.,\n",
              "       4., 4., 4., 4., 4., 4., 4., 4., 4., 4., 4., 4., 4., 4., 4., 4., 4.,\n",
              "       4., 4., 4., 4., 4., 4., 4., 4., 4., 4., 4., 4., 4., 4., 4., 4., 4.,\n",
              "       4., 4., 4., 4., 4., 4., 4., 4., 4., 4., 4., 4., 4., 4., 4., 4., 4.,\n",
              "       4., 4., 4., 4., 4., 4., 4., 4., 4., 4., 4., 4., 4., 4., 4.])"
            ]
          },
          "metadata": {},
          "execution_count": 61
        }
      ]
    },
    {
      "cell_type": "markdown",
      "source": [
        "**5.2 Store the length of the above created arrays in 'len_0', 'len_1','len_2', 'len_3' and 'len_4' respectively.**"
      ],
      "metadata": {
        "id": "J50hc2C6kFwV"
      }
    },
    {
      "cell_type": "code",
      "source": [
        "len_0 = len(race_0)\n",
        "len_1 = len(race_1)\n",
        "len_2 = len(race_2)\n",
        "len_3 = len(race_3)\n",
        "len_4 = len(race_4)"
      ],
      "metadata": {
        "id": "ic81dr5QkKX8"
      },
      "execution_count": 62,
      "outputs": []
    },
    {
      "cell_type": "code",
      "source": [
        "print(\"The length of race_0 is \",len_0)"
      ],
      "metadata": {
        "colab": {
          "base_uri": "https://localhost:8080/"
        },
        "id": "ioLiM1qhkoNm",
        "outputId": "737e6190-5a66-4f32-c924-b668848e1eff"
      },
      "execution_count": 63,
      "outputs": [
        {
          "output_type": "stream",
          "name": "stdout",
          "text": [
            "The length of race_0 is  10\n"
          ]
        }
      ]
    },
    {
      "cell_type": "code",
      "source": [
        "print(\"The length of race_1 is \",len_1)"
      ],
      "metadata": {
        "colab": {
          "base_uri": "https://localhost:8080/"
        },
        "id": "eN3PFz_dkxMj",
        "outputId": "1763d85a-8ba3-4c50-b84b-03ecfd75ffb3"
      },
      "execution_count": 64,
      "outputs": [
        {
          "output_type": "stream",
          "name": "stdout",
          "text": [
            "The length of race_1 is  27\n"
          ]
        }
      ]
    },
    {
      "cell_type": "code",
      "source": [
        "print(\"The length of race_2 is \",len_2)"
      ],
      "metadata": {
        "colab": {
          "base_uri": "https://localhost:8080/"
        },
        "id": "lxKjfw0Fk2z8",
        "outputId": "34dee491-efa8-4718-a90e-d54dd4c171c7"
      },
      "execution_count": 65,
      "outputs": [
        {
          "output_type": "stream",
          "name": "stdout",
          "text": [
            "The length of race_2 is  110\n"
          ]
        }
      ]
    },
    {
      "cell_type": "code",
      "source": [
        "print(\"The length of race_3 is \",len_3)"
      ],
      "metadata": {
        "colab": {
          "base_uri": "https://localhost:8080/"
        },
        "id": "sT1iY80vk6kg",
        "outputId": "3d3a096d-63c2-41e7-cef3-af366320e837"
      },
      "execution_count": 66,
      "outputs": [
        {
          "output_type": "stream",
          "name": "stdout",
          "text": [
            "The length of race_3 is  6\n"
          ]
        }
      ]
    },
    {
      "cell_type": "code",
      "source": [
        "print(\"The length of race_4 is \",len_4)"
      ],
      "metadata": {
        "colab": {
          "base_uri": "https://localhost:8080/"
        },
        "id": "qVPYu7xUk-xP",
        "outputId": "df3bcaee-bda8-47bf-87c9-e1e52b98d2c3"
      },
      "execution_count": 67,
      "outputs": [
        {
          "output_type": "stream",
          "name": "stdout",
          "text": [
            "The length of race_4 is  848\n"
          ]
        }
      ]
    },
    {
      "cell_type": "markdown",
      "source": [
        "**5.3 Find out which is the race with the minimum no. of citizens.**"
      ],
      "metadata": {
        "id": "NmFr0fEBlEqH"
      }
    },
    {
      "cell_type": "code",
      "source": [
        "print('minimum no.of citizens',len_2,'present in the race 2')"
      ],
      "metadata": {
        "colab": {
          "base_uri": "https://localhost:8080/"
        },
        "id": "p0Bte-UUlNwo",
        "outputId": "4aa6b2b9-babd-4019-d4a7-b7a34562e8cc"
      },
      "execution_count": 68,
      "outputs": [
        {
          "output_type": "stream",
          "name": "stdout",
          "text": [
            "minimum no.of citizens 110 present in the race 2\n"
          ]
        }
      ]
    },
    {
      "cell_type": "markdown",
      "source": [
        "**5.4 store the number associated with the minority race in a variable called 'minority_race'(For eg: if \"len(race_5)\" is the minimum, store 5 in 'minority_race' because that is the index of the race having the least no. of citizens ).**"
      ],
      "metadata": {
        "id": "17lUkXtTl_4T"
      }
    },
    {
      "cell_type": "code",
      "source": [
        "minority_race=len(race_3)\n",
        "print(\"The race_3 is the minority_race =\" ,minority_race,\" becz it is having least no.of citizens\")"
      ],
      "metadata": {
        "colab": {
          "base_uri": "https://localhost:8080/"
        },
        "id": "NWk1_LYImHtU",
        "outputId": "02326f48-f0b8-441a-d55e-ae017a17cedb"
      },
      "execution_count": 69,
      "outputs": [
        {
          "output_type": "stream",
          "name": "stdout",
          "text": [
            "The race_3 is the minority_race = 6  becz it is having least no.of citizens\n"
          ]
        }
      ]
    },
    {
      "cell_type": "markdown",
      "source": [
        "**Step 6: As per govt. records citizens above 60 should not work more than 25 hours a week. Let us check if the policy is in place.**"
      ],
      "metadata": {
        "id": "Qq1jtO4anDV9"
      }
    },
    {
      "cell_type": "markdown",
      "source": [
        "**6.1 Create a new subset array called 'senior_citizens' by filtering 'census' according to age>60 (age is the column with index 0).**"
      ],
      "metadata": {
        "id": "U9d8hY1ynJyc"
      }
    },
    {
      "cell_type": "code",
      "source": [
        "senior_citizen = age[age > 60]\n",
        "senior_citizen"
      ],
      "metadata": {
        "colab": {
          "base_uri": "https://localhost:8080/"
        },
        "id": "_T7E0xgmJ2KR",
        "outputId": "0fba41b7-4dc3-4ba7-a924-c9d8b4b91296"
      },
      "execution_count": 70,
      "outputs": [
        {
          "output_type": "execute_result",
          "data": {
            "text/plain": [
              "array([79., 67., 76., 61., 70., 64., 71., 68., 66., 64., 90., 66., 75.,\n",
              "       65., 64., 61., 65., 77., 62., 76., 63., 66., 67., 65., 62., 63.,\n",
              "       80., 67., 63., 72., 62., 74., 67., 72., 69., 65., 65., 71., 70.,\n",
              "       66., 65., 61., 61., 68., 64., 64., 62., 73., 72., 63., 62., 61.,\n",
              "       71., 63., 63., 67., 81., 64., 67., 78., 63.])"
            ]
          },
          "metadata": {},
          "execution_count": 70
        }
      ]
    },
    {
      "cell_type": "markdown",
      "source": [
        "**6.2 Add all the working hours(working hours is the column with index 6) of 'senior_citizens' and store it in a variable called 'working_hours_sum'.**"
      ],
      "metadata": {
        "id": "6zza4KnqLNoE"
      }
    },
    {
      "cell_type": "code",
      "source": [
        "working_hours = df[:,6]\n",
        "working_hours"
      ],
      "metadata": {
        "colab": {
          "base_uri": "https://localhost:8080/"
        },
        "id": "ZnadkVZFLJLG",
        "outputId": "91474a51-2806-482f-baa5-be2ebcdf2ae7"
      },
      "execution_count": 71,
      "outputs": [
        {
          "output_type": "execute_result",
          "data": {
            "text/plain": [
              "array([40., 13., 40., ..., 40., 50., 40.])"
            ]
          },
          "metadata": {},
          "execution_count": 71
        }
      ]
    },
    {
      "cell_type": "code",
      "source": [
        "working_hours_sum = np.sum(working_hours[age > 60])\n",
        "print(\"The total working hours of senior citizen is\",working_hours_sum)"
      ],
      "metadata": {
        "colab": {
          "base_uri": "https://localhost:8080/"
        },
        "id": "AjNKpUcyLkm9",
        "outputId": "f5eeafec-7c9a-4da3-d52a-d73c836672eb"
      },
      "execution_count": 72,
      "outputs": [
        {
          "output_type": "stream",
          "name": "stdout",
          "text": [
            "The total working hours of senior citizen is 1917.0\n"
          ]
        }
      ]
    },
    {
      "cell_type": "markdown",
      "source": [
        "**6.3 Find the length of 'senior_citizens' and store it in a variable called 'senior_citizens_len'.**\n",
        "\n"
      ],
      "metadata": {
        "id": "6wf8Ji9GL_w3"
      }
    },
    {
      "cell_type": "code",
      "source": [
        "senior_citizen_len=len(senior_citizen)\n",
        "print(\"The length of senior_citizens is \",senior_citizen_len)"
      ],
      "metadata": {
        "colab": {
          "base_uri": "https://localhost:8080/"
        },
        "id": "bA9jL_PVL8Uv",
        "outputId": "85e85893-9227-49a7-d0f7-0b6dd103e416"
      },
      "execution_count": 73,
      "outputs": [
        {
          "output_type": "stream",
          "name": "stdout",
          "text": [
            "The length of senior_citizens is  61\n"
          ]
        }
      ]
    },
    {
      "cell_type": "markdown",
      "source": [
        "**6.4 Finally find the average working hours of the senior citizens by dividing 'working_hours_sum' by 'senior_citizens_len' and store it in a variable called 'avg_working hours'.**"
      ],
      "metadata": {
        "id": "r9-L0Nm2MeEO"
      }
    },
    {
      "cell_type": "code",
      "source": [
        "avg_working_hours = working_hours_sum / senior_citizen_len\n",
        "print(\"The Avg working hoursof senior_citizens is \",avg_working_hours)\n"
      ],
      "metadata": {
        "colab": {
          "base_uri": "https://localhost:8080/"
        },
        "id": "oqNPLEfPMo1J",
        "outputId": "c8ecaadc-e1b4-4ede-beac-867ef9d3b109"
      },
      "execution_count": 74,
      "outputs": [
        {
          "output_type": "stream",
          "name": "stdout",
          "text": [
            "The Avg working hoursof senior_citizens is  31.42622950819672\n"
          ]
        }
      ]
    },
    {
      "cell_type": "markdown",
      "source": [
        "**6.5 Print 'avg_working_hours' and see if the govt. policy is followed.**"
      ],
      "metadata": {
        "id": "7BOgRL7KNytj"
      }
    },
    {
      "cell_type": "code",
      "source": [
        "if avg_working_hours < 25:\n",
        "  print('The govt policy is followed')\n",
        "else:\n",
        "  print('The govt policy is not followed')"
      ],
      "metadata": {
        "colab": {
          "base_uri": "https://localhost:8080/"
        },
        "id": "_qF9TjKWN40F",
        "outputId": "431ab30d-7b07-4fa6-a8b3-e7fc57ab51c9"
      },
      "execution_count": 75,
      "outputs": [
        {
          "output_type": "stream",
          "name": "stdout",
          "text": [
            "The govt policy is not followed\n"
          ]
        }
      ]
    },
    {
      "cell_type": "markdown",
      "source": [
        "**Step 7: Let's check that higher educated people have better pay in general.**"
      ],
      "metadata": {
        "id": "LRqiLCcnODAe"
      }
    },
    {
      "cell_type": "markdown",
      "source": [
        "**7.1 Create two new subset arrays called 'high' and 'low' by filtering 'census' according to education-num>10 and education-num<=10 (education-num is the column with index 1) respectively.**"
      ],
      "metadata": {
        "id": "8Xo0ltjlOOBi"
      }
    },
    {
      "cell_type": "code",
      "source": [
        "education = df[:,1]"
      ],
      "metadata": {
        "id": "_LJ82SElOQN8"
      },
      "execution_count": 76,
      "outputs": []
    },
    {
      "cell_type": "code",
      "source": [
        "education"
      ],
      "metadata": {
        "colab": {
          "base_uri": "https://localhost:8080/"
        },
        "id": "biYsni1XOJXj",
        "outputId": "7a2f9b11-ce15-4548-9f0c-46098bd7281e"
      },
      "execution_count": 77,
      "outputs": [
        {
          "output_type": "execute_result",
          "data": {
            "text/plain": [
              "array([13., 13.,  9., ..., 10., 13.,  9.])"
            ]
          },
          "metadata": {},
          "execution_count": 77
        }
      ]
    },
    {
      "cell_type": "code",
      "source": [
        "income = df[:,7]\n",
        "income"
      ],
      "metadata": {
        "colab": {
          "base_uri": "https://localhost:8080/"
        },
        "id": "Smkewc73OhEi",
        "outputId": "b529c722-a982-4d4f-8965-89dce3637cdd"
      },
      "execution_count": 78,
      "outputs": [
        {
          "output_type": "execute_result",
          "data": {
            "text/plain": [
              "array([0., 0., 0., ..., 0., 1., 0.])"
            ]
          },
          "metadata": {},
          "execution_count": 78
        }
      ]
    },
    {
      "cell_type": "code",
      "source": [
        "high = education[education > 10]\n",
        "print(\"Higher education is \",high)\n",
        "low = education[education <= 10]\n",
        "print(\"Lower Education is \",low)"
      ],
      "metadata": {
        "colab": {
          "base_uri": "https://localhost:8080/"
        },
        "id": "kLcfuRaqOps6",
        "outputId": "185c83e0-8ba0-421f-dbf1-989e19daa1fe"
      },
      "execution_count": 79,
      "outputs": [
        {
          "output_type": "stream",
          "name": "stdout",
          "text": [
            "Higher education is  [13. 13. 13. 14. 14. 13. 13. 13. 12. 11. 14. 16. 13. 12. 13. 12. 13. 13.\n",
            " 13. 14. 11. 11. 15. 13. 11. 13. 16. 13. 13. 12. 13. 14. 16. 11. 13. 16.\n",
            " 12. 14. 13. 14. 13. 15. 11. 13. 13. 13. 13. 12. 12. 13. 12. 14. 11. 11.\n",
            " 13. 13. 13. 14. 14. 12. 14. 11. 13. 13. 13. 13. 13. 14. 16. 13. 13. 14.\n",
            " 14. 14. 13. 13. 13. 12. 13. 13. 11. 15. 13. 14. 13. 12. 12. 15. 13. 11.\n",
            " 13. 13. 14. 14. 13. 12. 13. 14. 15. 13. 13. 13. 13. 13. 14. 13. 12. 12.\n",
            " 12. 13. 14. 13. 14. 11. 13. 11. 14. 12. 11. 13. 11. 12. 13. 13. 13. 13.\n",
            " 11. 14. 13. 13. 12. 13. 11. 14. 13. 12. 13. 13. 13. 13. 11. 14. 16. 13.\n",
            " 14. 14. 13. 12. 14. 13. 12. 11. 12. 13. 13. 14. 13. 11. 13. 12. 13. 13.\n",
            " 13. 12. 13. 13. 13. 11. 11. 11. 13. 13. 13. 14. 12. 15. 11. 13. 16. 11.\n",
            " 13. 13. 13. 14. 14. 11. 16. 13. 12. 13. 13. 13. 13. 13. 15. 13. 13. 12.\n",
            " 14. 14. 13. 13. 13. 15. 13. 11. 13. 13. 13. 13. 16. 16. 13. 16. 14. 14.\n",
            " 12. 13. 11. 13. 14. 13. 12. 14. 14. 13. 13. 13. 16. 13. 13. 13. 11. 13.\n",
            " 13. 13. 13. 13. 11. 11. 13. 13. 14. 11. 13. 13. 13. 13. 11. 13. 16. 13.\n",
            " 13. 11. 11. 14. 13. 11. 11. 13. 11. 13. 14. 13. 12. 14. 13. 13. 11. 11.\n",
            " 14. 11. 13. 13. 13. 13. 13. 13. 14. 11. 13. 16. 13. 13. 13. 13. 14. 13.\n",
            " 13. 11. 13. 13. 13. 11. 13. 11. 13. 15. 14. 13. 13. 12. 13. 13. 14. 14.\n",
            " 14. 15. 13. 12. 13. 14. 13. 12. 13. 13. 11. 13. 13. 14. 12. 11. 13. 11.\n",
            " 14. 13. 13.]\n",
            "Lower Education is  [ 9.  7.  5.  9. 10.  4.  9.  9.  7.  9.  5.  7.  9.  9. 10.  9.  9. 10.\n",
            " 10. 10.  7. 10.  9. 10.  5.  9.  9.  9. 10.  9.  9. 10.  3.  9.  9.  4.\n",
            "  9. 10.  9. 10.  9. 10. 10. 10. 10. 10.  9.  6.  7.  4.  9.  9.  9.  9.\n",
            "  9.  9.  5. 10. 10.  9. 10. 10.  9. 10.  9.  9.  6.  7.  9.  9.  9. 10.\n",
            "  9.  5. 10. 10.  9. 10. 10. 10.  9. 10.  9.  9.  9. 10. 10.  9. 10. 10.\n",
            " 10.  9. 10.  9.  7. 10. 10.  9.  9.  9.  9. 10.  9.  2.  9.  9. 10.  7.\n",
            "  9.  9. 10.  9.  9.  9.  9. 10. 10. 10.  4. 10.  9. 10. 10. 10.  3. 10.\n",
            "  9.  9. 10.  9.  7.  9.  9.  7.  9.  9. 10.  9.  4.  6. 10.  2.  9.  9.\n",
            "  1.  9.  6.  9.  9.  7.  9. 10. 10.  9. 10.  9.  9. 10. 10.  9.  9.  9.\n",
            "  9.  6. 10. 10.  9.  9.  9.  4.  9.  7. 10.  7. 10. 10.  9.  9.  9.  5.\n",
            "  9.  9. 10. 10. 10. 10. 10.  9. 10.  4.  9. 10.  9.  9.  9. 10.  9.  9.\n",
            " 10.  9. 10. 10. 10. 10. 10.  3. 10.  9.  9. 10.  9.  7.  9. 10.  9.  9.\n",
            " 10.  6.  9.  3.  9.  9.  9.  9.  9. 10.  7.  9.  7.  9.  7.  9.  5.  6.\n",
            "  9.  9. 10.  9. 10.  7.  9.  9. 10.  9. 10.  9.  9.  3. 10. 10. 10.  9.\n",
            "  9. 10. 10.  9.  9.  9. 10. 10.  9. 10. 10.  4.  9.  9. 10. 10. 10.  9.\n",
            " 10. 10.  8.  2.  7.  7.  9. 10.  7.  9.  6.  9.  9.  9.  9.  7. 10.  9.\n",
            " 10. 10. 10.  9.  9. 10.  5. 10.  9.  9.  9.  7.  9. 10.  9.  9.  9. 10.\n",
            "  9. 10.  9.  2.  9.  9. 10. 10. 10.  9.  9.  5. 10.  6.  9. 10.  9.  8.\n",
            " 10.  2.  9.  9.  9.  9.  9. 10.  3. 10.  9.  9.  9. 10. 10. 10. 10.  9.\n",
            "  9.  3. 10.  9. 10. 10. 10.  9. 10. 10. 10. 10. 10.  9.  7.  9.  9.  8.\n",
            "  2.  9. 10. 10.  9. 10.  9.  6. 10.  9. 10. 10.  9.  7.  9.  7.  9.  9.\n",
            "  9.  7. 10.  9.  9.  4.  9.  9.  9.  7.  8. 10. 10.  9.  9.  9. 10. 10.\n",
            "  7.  6.  9.  9.  4.  9. 10. 10. 10.  4.  5.  9.  9.  9.  6.  9.  9.  9.\n",
            "  9.  9.  7.  5.  5.  9.  9.  9. 10. 10.  6. 10.  9.  9.  3.  9.  9. 10.\n",
            " 10. 10.  9.  9.  9. 10.  9. 10.  9. 10.  5.  9.  4.  9.  8. 10. 10. 10.\n",
            "  9.  7.  5. 10.  7.  7.  9.  9.  8. 10.  9.  9.  9.  9. 10.  7.  9.  4.\n",
            "  9. 10. 10. 10. 10.  9. 10. 10.  8. 10.  9.  7. 10.  9.  9.  9. 10.  9.\n",
            "  9.  9.  9. 10.  9.  7. 10. 10. 10. 10. 10.  9. 10.  9.  8.  9. 10.  7.\n",
            "  6.  9.  9.  9.  9.  9.  9.  9.  9.  6. 10. 10.  9. 10.  3.  9.  9. 10.\n",
            " 10. 10. 10. 10.  9.  8.  9.  9. 10.  9.  9. 10.  9.  9.  9.  7.  9.  7.\n",
            "  9.  9.  9. 10. 10. 10.  6.  9. 10.  9.  9.  9.  9.  9.  9.  9. 10.  7.\n",
            " 10. 10.  9.  7.  9.  9.  9.  7. 10. 10.  9. 10.  9.  9.  9.  9.  9.  9.\n",
            "  7.  9.  7. 10.  9. 10.  6.  7. 10. 10.  3.  9.  9.  9.  5.  9. 10. 10.\n",
            " 10.  9. 10. 10.  9.  4.  5.  9.  9.  9. 10.  9. 10.  9. 10.  6. 10.  9.\n",
            "  9.  9. 10. 10. 10.  3. 10.  9.  9.  9. 10.  2.  9. 10.  1.  9.  7.  9.\n",
            "  9.  9.  9.  9.  9. 10. 10. 10. 10.  9.  4.  9. 10.  6. 10.  6. 10.  9.\n",
            "  6.  9.  9. 10.  9.  9.  9.  9. 10. 10.  9.  9.  9.  9.  9.  9.  9.  9.\n",
            "  9. 10.  9.  9.  9.  9. 10.  9.]\n"
          ]
        }
      ]
    },
    {
      "cell_type": "markdown",
      "source": [
        "**7.2 Find the mean of income column(income is the column with index 7) of 'high' array and store it in 'avg_pay_high'. Do the same for 'low' array and store it's mean in 'avg_pay_low'.**"
      ],
      "metadata": {
        "id": "3W67VxeePOXY"
      }
    },
    {
      "cell_type": "code",
      "source": [
        "Avg_pay_high = np.mean(high)\n",
        "print(\"The avg pay high is \",Avg_pay_high)"
      ],
      "metadata": {
        "colab": {
          "base_uri": "https://localhost:8080/"
        },
        "id": "5_MXnocsPVf1",
        "outputId": "fbba611a-81ee-4e5c-ffe7-4940cd56b7b8"
      },
      "execution_count": 80,
      "outputs": [
        {
          "output_type": "stream",
          "name": "stdout",
          "text": [
            "The avg pay high is  12.954128440366972\n"
          ]
        }
      ]
    },
    {
      "cell_type": "code",
      "source": [
        "Avg_pay_low = np.mean(low)\n",
        "print(\"The avg pay Low is \",Avg_pay_low)"
      ],
      "metadata": {
        "colab": {
          "base_uri": "https://localhost:8080/"
        },
        "id": "y5O3q3_JPnRX",
        "outputId": "1c5be364-0949-4479-97a6-214e869b06b9"
      },
      "execution_count": 81,
      "outputs": [
        {
          "output_type": "stream",
          "name": "stdout",
          "text": [
            "The avg pay Low is  8.689910979228486\n"
          ]
        }
      ]
    }
  ]
}