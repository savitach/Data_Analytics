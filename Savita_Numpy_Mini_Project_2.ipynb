{
  "nbformat": 4,
  "nbformat_minor": 0,
  "metadata": {
    "colab": {
      "provenance": []
    },
    "kernelspec": {
      "name": "python3",
      "display_name": "Python 3"
    },
    "language_info": {
      "name": "python"
    }
  },
  "cells": [
    {
      "cell_type": "markdown",
      "source": [
        "**Mini Project 2**\n",
        "Let us build a complete project using NumPy (without any help).\n",
        "\n",
        "Path: project_data = 'KAG_Conversion_Data.csv'\n",
        "**Features:**\n",
        "* 1.ad_id: unique ID for each ad.\n",
        "* 2.xyzcampaignid: an ID associated with each ad campaign of XYZ company\n",
        "* 3.fbcampaignid: an ID associated with how Facebook tracks each campaign\n",
        "* 4.age: age of the person to whom the ad is shown\n",
        "* 5.gender: gender of the person to whom the add is shown\n",
        "* 6.interest: a code specifying the category to which the person’s interest  \n",
        "  belongs (interests are as mentioned in the person’s Facebook public profile)\n",
        "* 7.Impressions: the number of times the ad was shown\n",
        "* 8.Clicks: number of clicks on for that ad\n",
        "* 9 Spent: Amount paid by company xyz to Facebook, to show that ad\n",
        "* 10 Total conversion: Total number of people who enquired about the product   \n",
        "   after seeing the ad\n",
        "* 11 Approved conversion: Total number of people who bought the product after  \n",
        "   seeing the ad.\n",
        "\n",
        "**Instructions:**\n",
        "* Load the data. Data is already given to you in variable path\n",
        "\n",
        "* How many unique ad campaigns (xyzcampaignid) does this data contain ? And for \n",
        "  how many times was each campaign run ?\n",
        "\n",
        "* What are the age groups that were targeted through these ad campaigns?\n",
        "\n",
        "* What was the average, minimum and maximum amount spent on the ads?\n",
        "\n",
        "* What is the id of the ad having the maximum number of clicks ?\n",
        "\n",
        "* How many people bought the product after seeing the ad with most clicks? Is  \n",
        "   that the maximum number of purchases in this dataset?\n",
        "\n",
        "* So the ad with the most clicks didn't fetch the maximum number of purchases. \n",
        "  Find the details of the product having maximum number of purchases."
      ],
      "metadata": {
        "id": "4WH0pfKxQ-FJ"
      }
    },
    {
      "cell_type": "code",
      "source": [
        "# Import the Numpy Library & read the data file\n",
        "import numpy as np\n",
        "data_file='/content/KAG_Conversion_Data.csv'"
      ],
      "metadata": {
        "id": "sTPpMiJARXkp"
      },
      "execution_count": 1,
      "outputs": []
    },
    {
      "cell_type": "code",
      "source": [
        "#load the data\n",
        "\n",
        "data=np.genfromtxt(data_file,delimiter=',',skip_header=1)"
      ],
      "metadata": {
        "id": "J2ME77QYUNqs"
      },
      "execution_count": 2,
      "outputs": []
    },
    {
      "cell_type": "code",
      "source": [
        "#print the data & type of data\n",
        "print(data)\n",
        "print(type(data))"
      ],
      "metadata": {
        "colab": {
          "base_uri": "https://localhost:8080/"
        },
        "id": "-2ndy_loUpgr",
        "outputId": "3ec95227-9d00-4356-add6-fad3119c9e5f"
      },
      "execution_count": 3,
      "outputs": [
        {
          "output_type": "stream",
          "name": "stdout",
          "text": [
            "[[7.08746000e+05 9.16000000e+02 1.03916000e+05 ... 1.42999995e+00\n",
            "  2.00000000e+00 1.00000000e+00]\n",
            " [7.08749000e+05 9.16000000e+02 1.03917000e+05 ... 1.82000002e+00\n",
            "  2.00000000e+00 0.00000000e+00]\n",
            " [7.08771000e+05 9.16000000e+02 1.03920000e+05 ... 0.00000000e+00\n",
            "  1.00000000e+00 0.00000000e+00]\n",
            " ...\n",
            " [1.31441200e+06 1.17800000e+03 1.79979000e+05 ... 4.02899995e+01\n",
            "  2.00000000e+00 0.00000000e+00]\n",
            " [1.31441400e+06 1.17800000e+03 1.79981000e+05 ... 1.98710001e+02\n",
            "  8.00000000e+00 2.00000000e+00]\n",
            " [1.31441500e+06 1.17800000e+03 1.79982000e+05 ... 1.65609999e+02\n",
            "  5.00000000e+00 2.00000000e+00]]\n",
            "<class 'numpy.ndarray'>\n"
          ]
        }
      ]
    },
    {
      "cell_type": "markdown",
      "source": [
        " **ad_id: unique ID for each ad**"
      ],
      "metadata": {
        "id": "lmdb5WInZdYf"
      }
    },
    {
      "cell_type": "code",
      "source": [
        "ad_id=np.unique(data[:,0]) \n",
        "ad_id\n",
        "#len(ad_id)"
      ],
      "metadata": {
        "colab": {
          "base_uri": "https://localhost:8080/"
        },
        "id": "sOlqfcElXR5f",
        "outputId": "b0ad1f4a-bb50-4401-e074-64547224ce28"
      },
      "execution_count": 4,
      "outputs": [
        {
          "output_type": "execute_result",
          "data": {
            "text/plain": [
              "array([ 708746.,  708749.,  708771., ..., 1314412., 1314414., 1314415.])"
            ]
          },
          "metadata": {},
          "execution_count": 4
        }
      ]
    },
    {
      "cell_type": "markdown",
      "source": [
        "**xyzcampaignid: an ID associated with each ad campaign of XYZ company**."
      ],
      "metadata": {
        "id": "r7v2QQ9XZu7w"
      }
    },
    {
      "cell_type": "code",
      "source": [
        "xyzcampaignid=np.unique(data[:,1])\n",
        "xyzcampaignid"
      ],
      "metadata": {
        "colab": {
          "base_uri": "https://localhost:8080/"
        },
        "id": "clpr_MlCZ0-d",
        "outputId": "d0fa2c94-78bb-4c49-e363-2354c1186dd7"
      },
      "execution_count": 5,
      "outputs": [
        {
          "output_type": "execute_result",
          "data": {
            "text/plain": [
              "array([ 916.,  936., 1178.])"
            ]
          },
          "metadata": {},
          "execution_count": 5
        }
      ]
    },
    {
      "cell_type": "markdown",
      "source": [
        "**How many unique ad campaigns (xyzcampaignid) does this data contain ? And for how many times was each campaign run ?**"
      ],
      "metadata": {
        "id": "56h_rho0O_Q-"
      }
    },
    {
      "cell_type": "code",
      "source": [
        "unique_ad_campaigns=len(data[:,1])\n",
        "\n",
        "print(\"The data contain unique ad campaign is \" ,unique_ad_campaigns)\n"
      ],
      "metadata": {
        "colab": {
          "base_uri": "https://localhost:8080/"
        },
        "id": "3z0l_93sSr_P",
        "outputId": "f18c777b-5325-46a6-a0f2-cff707341808"
      },
      "execution_count": 6,
      "outputs": [
        {
          "output_type": "stream",
          "name": "stdout",
          "text": [
            "The data contain unique ad campaign is  1143\n"
          ]
        }
      ]
    },
    {
      "cell_type": "code",
      "source": [
        "l=list(data[:,1])\n",
        "print(l.count(916),\"many times 916 run\")\n",
        "print(l.count(936),\"many times 936 run\")\n",
        "print(l.count(1178),\"many times 1178 run\")\n"
      ],
      "metadata": {
        "colab": {
          "base_uri": "https://localhost:8080/"
        },
        "id": "OFLtjclAPHU2",
        "outputId": "9e7a43e9-255e-42f5-e5c7-43c8a4b2b103"
      },
      "execution_count": 7,
      "outputs": [
        {
          "output_type": "stream",
          "name": "stdout",
          "text": [
            "54 many times 916 run\n",
            "464 many times 936 run\n",
            "625 many times 1178 run\n"
          ]
        }
      ]
    },
    {
      "cell_type": "markdown",
      "source": [
        "**What are the age groups that were targeted through these ad campaigns?**"
      ],
      "metadata": {
        "id": "Qj37XAmha4Sn"
      }
    },
    {
      "cell_type": "code",
      "source": [
        "data_string=np.genfromtxt(data_file,delimiter=',',dtype='str',skip_header=1)\n",
        "age=data_string[:,3]\n",
        "print(\"Age groups targeted is given by \",age)\n"
      ],
      "metadata": {
        "colab": {
          "base_uri": "https://localhost:8080/"
        },
        "id": "dfq27akBa-yp",
        "outputId": "f3d49e38-7a41-4a0c-f05b-b16b15b1c9c8"
      },
      "execution_count": 8,
      "outputs": [
        {
          "output_type": "stream",
          "name": "stdout",
          "text": [
            "Age groups targeted is given by  ['30-34' '30-34' '30-34' ... '45-49' '45-49' '45-49']\n"
          ]
        }
      ]
    },
    {
      "cell_type": "markdown",
      "source": [
        "**What was the average, minimum and maximum amount spent on the ads?**"
      ],
      "metadata": {
        "id": "48OJopucWcuW"
      }
    },
    {
      "cell_type": "code",
      "source": [
        "#The average amount spent on the ads\n",
        "spent=data[:,8]\n",
        "avg_spent=np.average(spent)\n",
        "print(\"The average amount spent on the ads is \",avg_spent)"
      ],
      "metadata": {
        "colab": {
          "base_uri": "https://localhost:8080/"
        },
        "id": "fhg_ORKNWTFj",
        "outputId": "99f1e5d3-a705-4bd5-c9d4-e1c1d12df36c"
      },
      "execution_count": 9,
      "outputs": [
        {
          "output_type": "stream",
          "name": "stdout",
          "text": [
            "The average amount spent on the ads is  51.36065613141295\n"
          ]
        }
      ]
    },
    {
      "cell_type": "code",
      "source": [
        "#The max amount spent on the ads\n",
        "spent=data[:,8]\n",
        "max_spent=spent.max()\n",
        "print(\"The MAX amount spent on the ads is \",max_spent)"
      ],
      "metadata": {
        "colab": {
          "base_uri": "https://localhost:8080/"
        },
        "id": "NVYPswPCDNpy",
        "outputId": "484dd1d0-015f-46a5-c37c-f78d50ecedb2"
      },
      "execution_count": 10,
      "outputs": [
        {
          "output_type": "stream",
          "name": "stdout",
          "text": [
            "The MAX amount spent on the ads is  639.9499981\n"
          ]
        }
      ]
    },
    {
      "cell_type": "code",
      "source": [
        "#The min amount spent on the ads\n",
        "spent=data[:,8]\n",
        "min_spent=spent.min()\n",
        "print(\"The MIN amount spent on the ads is \",min_spent)"
      ],
      "metadata": {
        "colab": {
          "base_uri": "https://localhost:8080/"
        },
        "id": "WYBxRtP6FiSY",
        "outputId": "7c4c5487-8a2a-4895-c849-7cf35e7256c1"
      },
      "execution_count": 11,
      "outputs": [
        {
          "output_type": "stream",
          "name": "stdout",
          "text": [
            "The MIN amount spent on the ads is  0.0\n"
          ]
        }
      ]
    },
    {
      "cell_type": "markdown",
      "source": [
        "**What is the id of the ad having the maximum number of clicks ?**"
      ],
      "metadata": {
        "id": "P2itewdSF1hy"
      }
    },
    {
      "cell_type": "code",
      "source": [
        "clicks=data[:,7]\n",
        "a=clicks.max()\n",
        "np.extract(a, ad_id[860])"
      ],
      "metadata": {
        "colab": {
          "base_uri": "https://localhost:8080/"
        },
        "id": "uCXraU-zPfsI",
        "outputId": "39405f42-2f90-4b62-b812-0265fa0b9721"
      },
      "execution_count": 12,
      "outputs": [
        {
          "output_type": "execute_result",
          "data": {
            "text/plain": [
              "array([1121814.])"
            ]
          },
          "metadata": {},
          "execution_count": 12
        }
      ]
    },
    {
      "cell_type": "markdown",
      "source": [
        "**How many people bought the product after seeing the ad with most clicks? Is that the maximum number of purchases in this dataset?**"
      ],
      "metadata": {
        "id": "eaZb5FwOQobS"
      }
    },
    {
      "cell_type": "code",
      "source": [
        "aproved_conversion=data[861:,10]\n",
        "a=len(aproved_conversion)\n",
        "print(a,\"have bought the product after seeing the ad with most clicks\")\n",
        "if max_spent == a :\n",
        "  print(\"It is the max no.of purchases in this datasheet\")\n",
        "else:\n",
        "  print(\"It is not the max no.of purchases in this datasheet\")"
      ],
      "metadata": {
        "colab": {
          "base_uri": "https://localhost:8080/"
        },
        "id": "hVncmhaVQd6B",
        "outputId": "b4869bab-5bae-4a7e-98f6-f2060cca4bea"
      },
      "execution_count": 13,
      "outputs": [
        {
          "output_type": "stream",
          "name": "stdout",
          "text": [
            "282 have bought the product after seeing the ad with most clicks\n",
            "It is not the max no.of purchases in this datasheet\n"
          ]
        }
      ]
    },
    {
      "cell_type": "markdown",
      "source": [
        "**So the ad with the most clicks didn't fetch the maximum number of purchases. Find the details of the product having maximum number of purchases**"
      ],
      "metadata": {
        "id": "8Z2UpUiHQ6yc"
      }
    },
    {
      "cell_type": "code",
      "source": [
        "print(\"Ad with the most clicks didn't fetch the maximum number of purchases\")\n",
        "purchases= data[: ,10]\n",
        "max_purchases = purchases.max()\n",
        "print( \"product having maximum number of purchases\",max_purchases)\n"
      ],
      "metadata": {
        "colab": {
          "base_uri": "https://localhost:8080/"
        },
        "id": "jD-lugrARKJn",
        "outputId": "b963ee98-b18e-4f51-afa6-d93ecec31740"
      },
      "execution_count": 14,
      "outputs": [
        {
          "output_type": "stream",
          "name": "stdout",
          "text": [
            "Ad with the most clicks didn't fetch the maximum number of purchases\n",
            "product having maximum number of purchases 21.0\n"
          ]
        }
      ]
    }
  ]
}