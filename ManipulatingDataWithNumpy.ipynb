{
  "cells": [
    {
      "cell_type": "markdown",
      "metadata": {
        "id": "yzbkHH7ZT5Cx"
      },
      "source": [
        "# Manipulating Data with NumPy"
      ]
    },
    {
      "cell_type": "code",
      "source": [
        "y = [10,7,8,9]"
      ],
      "metadata": {
        "id": "E8Lewupu7aYK"
      },
      "execution_count": null,
      "outputs": []
    },
    {
      "cell_type": "code",
      "source": [
        "x = [20, 40, 60, 80]\n",
        "x  +  y"
      ],
      "metadata": {
        "colab": {
          "base_uri": "https://localhost:8080/"
        },
        "id": "RM5vti647E4I",
        "outputId": "ab2d0eb1-c48f-4e0c-e88b-4b8cda96e6ad"
      },
      "execution_count": null,
      "outputs": [
        {
          "output_type": "execute_result",
          "data": {
            "text/plain": [
              "[20, 40, 60, 80, 10, 7, 8, 9]"
            ]
          },
          "metadata": {},
          "execution_count": 5
        }
      ]
    },
    {
      "cell_type": "markdown",
      "metadata": {
        "id": "das2txP2T5Cy"
      },
      "source": [
        "## 1. Introduction to NumPy:"
      ]
    },
    {
      "cell_type": "raw",
      "metadata": {
        "id": "1n5Mcx36T5Cz"
      },
      "source": [
        "NumPy stands for \"Numerical Python\". It provides fast and efficient array operations of homogeneous data. It can perform typical numerical calculations on multidimensional arrays along with some other sophisticated functions. It provides ease working with linear algebra and carrying out complex calculations like Matrix inversion, Fourier Transfer, etc.\n",
        "\n",
        "Lets see, How NumPy different from lists:\n",
        "\n",
        "NumPy supports vectorized operations such as element-wise addition, substraction, etc which is not the case with basic lists."
      ]
    },
    {
      "cell_type": "code",
      "source": [
        "import numpy as np"
      ],
      "metadata": {
        "id": "zCWZG8Sj71f9"
      },
      "execution_count": null,
      "outputs": []
    },
    {
      "cell_type": "code",
      "execution_count": null,
      "metadata": {
        "tags": [],
        "colab": {
          "base_uri": "https://localhost:8080/"
        },
        "id": "CX-5CT15i03J",
        "outputId": "b95c45c8-852e-4f68-e9c9-5e61ed9172fa"
      },
      "outputs": [
        {
          "output_type": "execute_result",
          "data": {
            "text/plain": [
              "[10, 200, 90, 0]"
            ]
          },
          "metadata": {},
          "execution_count": 10
        }
      ],
      "source": [
        "# Example 1:\n",
        "\n",
        "\n",
        "lst = [10, 200, 90, 0]\n",
        "\n",
        "import numpy as np\n",
        "# arr = np.array(lst)\n",
        "\n",
        "lst"
      ]
    },
    {
      "cell_type": "code",
      "source": [
        "x = np.array(lst)\n",
        "x * 20"
      ],
      "metadata": {
        "colab": {
          "base_uri": "https://localhost:8080/"
        },
        "id": "kW2TycVD8lQ8",
        "outputId": "b8a72231-6b1b-4918-9531-78ad549ff520"
      },
      "execution_count": null,
      "outputs": [
        {
          "output_type": "execute_result",
          "data": {
            "text/plain": [
              "array([ 200, 4000, 1800,    0])"
            ]
          },
          "metadata": {},
          "execution_count": 16
        }
      ]
    },
    {
      "cell_type": "markdown",
      "metadata": {
        "id": "Wagzzevli03K"
      },
      "source": [
        "NumPy supports vectorized operations such as element-wise addition, substraction, etc which is not the case with basic lists."
      ]
    },
    {
      "cell_type": "code",
      "execution_count": null,
      "metadata": {
        "tags": [],
        "colab": {
          "base_uri": "https://localhost:8080/"
        },
        "id": "6DR6qqn4i03L",
        "outputId": "b596b256-de25-498f-e4d4-366d71ab8f84"
      },
      "outputs": [
        {
          "output_type": "stream",
          "name": "stdout",
          "text": [
            "[22 45 78 50]\n",
            "32\n"
          ]
        }
      ],
      "source": [
        "# Example 2:\n",
        "\n",
        "lst = [22, 45, 78, 50]\n",
        "\n",
        "\n",
        "arr = np.array(lst)\n",
        "print(arr)\n",
        "print(arr.nbytes)"
      ]
    },
    {
      "cell_type": "markdown",
      "metadata": {
        "id": "BAdQBkWDi03L"
      },
      "source": [
        "Python stores info for each pointer as well as to an object they are pointing to. However, NumPy array stores uniform values."
      ]
    },
    {
      "cell_type": "markdown",
      "metadata": {
        "id": "8OI_8_coT5C0"
      },
      "source": [
        "# 2. NumPy Object Creation:"
      ]
    },
    {
      "cell_type": "raw",
      "metadata": {
        "id": "FAzqaS3nT5C1"
      },
      "source": [
        "Calculations using NumPy are peeformed using nd-array (n-dimensional array) object which can take any number of dimensions."
      ]
    },
    {
      "cell_type": "markdown",
      "source": [
        "\n",
        "\n",
        "![](https://i.imgur.com/mg8O3kd.png)\n"
      ],
      "metadata": {
        "id": "7S6V3jhQl-NI"
      }
    },
    {
      "cell_type": "markdown",
      "metadata": {
        "id": "CrY3UgB5i03M"
      },
      "source": [
        "## 1. Array Creation:\n",
        "A Num-Py nd-array inputs basic Python list as an argument along with an explicit datatype (for typecasting) as shown below:"
      ]
    },
    {
      "cell_type": "code",
      "source": [
        "x = np.array([3,4,5,6])\n",
        "x"
      ],
      "metadata": {
        "colab": {
          "base_uri": "https://localhost:8080/"
        },
        "id": "wJ4Vr9uV-CZp",
        "outputId": "4bd88e6b-b1b1-4f91-d3dc-2777d8b764e7"
      },
      "execution_count": null,
      "outputs": [
        {
          "output_type": "execute_result",
          "data": {
            "text/plain": [
              "array([3, 4, 5, 6])"
            ]
          },
          "metadata": {},
          "execution_count": 19
        }
      ]
    },
    {
      "cell_type": "code",
      "source": [
        "y = np.array([[1,2,3,4],[4,6,7,8]])\n",
        "y"
      ],
      "metadata": {
        "colab": {
          "base_uri": "https://localhost:8080/"
        },
        "id": "0fe0oQu0-LYE",
        "outputId": "4cb35779-be8f-41f5-b7ae-0e736bb5b15f"
      },
      "execution_count": null,
      "outputs": [
        {
          "output_type": "execute_result",
          "data": {
            "text/plain": [
              "array([[1, 2, 3, 4],\n",
              "       [4, 6, 7, 8]])"
            ]
          },
          "metadata": {},
          "execution_count": 20
        }
      ]
    },
    {
      "cell_type": "code",
      "execution_count": null,
      "metadata": {
        "tags": [],
        "colab": {
          "base_uri": "https://localhost:8080/"
        },
        "id": "s0BlUSGMi03M",
        "outputId": "64aefa3e-d7c8-416a-ac8d-eabc5b778a72"
      },
      "outputs": [
        {
          "output_type": "stream",
          "name": "stdout",
          "text": [
            "[1 2 3 4]\n",
            "----\n",
            "[[1. 2. 3. 4.]\n",
            " [5. 6. 7. 8.]]\n"
          ]
        }
      ],
      "source": [
        "\n",
        "x = np.array([1,2,3,4])               # creates a 1-dimensional array\n",
        "b = np.array([[1,2,3,4], [5,6,7,8.0]])    # creates a 2-dimensional array\n",
        "print(a)\n",
        "print('----')\n",
        "print(b)"
      ]
    },
    {
      "cell_type": "markdown",
      "metadata": {
        "id": "XJeJEa51i03M"
      },
      "source": [
        "## Useful Functions "
      ]
    },
    {
      "cell_type": "markdown",
      "metadata": {
        "id": "DAa8Ddgai03M"
      },
      "source": [
        "#### Shape :"
      ]
    },
    {
      "cell_type": "code",
      "source": [
        "a.shape"
      ],
      "metadata": {
        "colab": {
          "base_uri": "https://localhost:8080/"
        },
        "id": "YrKcD1kn_GUt",
        "outputId": "f4e63a9e-88b3-451c-85ce-336c36ff6ce5"
      },
      "execution_count": null,
      "outputs": [
        {
          "output_type": "execute_result",
          "data": {
            "text/plain": [
              "(4,)"
            ]
          },
          "metadata": {},
          "execution_count": 23
        }
      ]
    },
    {
      "cell_type": "code",
      "execution_count": null,
      "metadata": {
        "tags": [],
        "colab": {
          "base_uri": "https://localhost:8080/"
        },
        "id": "tiY-frgKi03M",
        "outputId": "34a98b41-d362-4c52-b640-164463c4a313"
      },
      "outputs": [
        {
          "output_type": "stream",
          "name": "stdout",
          "text": [
            "The shape of the array a is  (4,)\n",
            "The shape of the array b is  (2, 4)\n"
          ]
        }
      ],
      "source": [
        "\n",
        "\n",
        "print('The shape of the array a is ', x.shape)\n",
        "print('The shape of the array b is ', y.shape)"
      ]
    },
    {
      "cell_type": "markdown",
      "metadata": {
        "id": "lUFozMrTi03N"
      },
      "source": [
        "#### Dimensions:"
      ]
    },
    {
      "cell_type": "code",
      "execution_count": null,
      "metadata": {
        "tags": [],
        "colab": {
          "base_uri": "https://localhost:8080/"
        },
        "id": "eij8u3cPi03N",
        "outputId": "494ba2f9-d35c-4ead-ad63-199c175acf8c"
      },
      "outputs": [
        {
          "output_type": "stream",
          "name": "stdout",
          "text": [
            "The dimensions of array a is  1\n",
            "The dimensions of array b is  2\n"
          ]
        }
      ],
      "source": [
        "print('The dimensions of array a is ', a.ndim)\n",
        "print('The dimensions of array b is ', b.ndim)"
      ]
    },
    {
      "cell_type": "markdown",
      "metadata": {
        "id": "1ogGlF9Zi03N"
      },
      "source": [
        "#### Size:"
      ]
    },
    {
      "cell_type": "code",
      "execution_count": null,
      "metadata": {
        "tags": [],
        "colab": {
          "base_uri": "https://localhost:8080/"
        },
        "id": "jdkv37LCi03N",
        "outputId": "94542208-30d7-4bab-c5c9-c4333f6678b3"
      },
      "outputs": [
        {
          "output_type": "stream",
          "name": "stdout",
          "text": [
            "The size of the array a is  4\n",
            "The size of the array b is  8\n"
          ]
        }
      ],
      "source": [
        "print('The size of the array a is ', a.size)\n",
        "print('The size of the array b is ', b.size)"
      ]
    },
    {
      "cell_type": "markdown",
      "metadata": {
        "id": "zWhUh1vui03N"
      },
      "source": [
        "#### Datatype:"
      ]
    },
    {
      "cell_type": "code",
      "execution_count": null,
      "metadata": {
        "tags": [],
        "colab": {
          "base_uri": "https://localhost:8080/"
        },
        "id": "mccQs0N1i03N",
        "outputId": "108a4341-f201-4482-8833-30f80aa0ff87"
      },
      "outputs": [
        {
          "output_type": "stream",
          "name": "stdout",
          "text": [
            "The datatype of the array a is  int64\n",
            "The datatype of the array b is  float64\n"
          ]
        }
      ],
      "source": [
        "print('The datatype of the array a is ', a.dtype)\n",
        "print('The datatype of the array b is ', b.dtype)"
      ]
    },
    {
      "cell_type": "markdown",
      "metadata": {
        "id": "hz1c65pwi03N"
      },
      "source": [
        "#### Itemsize:"
      ]
    },
    {
      "cell_type": "code",
      "execution_count": null,
      "metadata": {
        "tags": [],
        "colab": {
          "base_uri": "https://localhost:8080/"
        },
        "id": "VuzmNKGzi03N",
        "outputId": "8b1db78f-910f-4426-821e-19cc18bb961f"
      },
      "outputs": [
        {
          "output_type": "stream",
          "name": "stdout",
          "text": [
            "The number of bytes in each element of the array a is   8\n",
            "The number of bytes in each element of the array b is  8\n"
          ]
        }
      ],
      "source": [
        "print('The number of bytes in each element of the array a is  ', a.itemsize)\n",
        "print('The number of bytes in each element of the array b is ', b.itemsize)"
      ]
    },
    {
      "cell_type": "markdown",
      "metadata": {
        "id": "tSzqDFKFi03N"
      },
      "source": [
        "## 2. Matrix Creation:\n",
        "\n",
        "Moving ahead let's learn creation of a matrix using NumPy. There are three methods:\n",
        "\n",
        "**Method 1**: Using NumPy array to form a matrix.\n",
        "\n",
        "**Method 2**: Using NumPy's inbuilt matrix function.\n",
        "\n",
        "**Method 3**: Using miscellaneois functions such as zeros(), ones(), etc."
      ]
    },
    {
      "cell_type": "markdown",
      "metadata": {
        "id": "x2rZyHb9i03N"
      },
      "source": [
        "- **Method 1**: Using array and reshape to convert array into matrix"
      ]
    },
    {
      "cell_type": "code",
      "source": [
        "a = np.array([6,7,8,9,3,4,8,5,7]).reshape(3,3)\n",
        "a"
      ],
      "metadata": {
        "colab": {
          "base_uri": "https://localhost:8080/"
        },
        "id": "BU8ePcAzALuq",
        "outputId": "f8e57e43-a509-498f-cc8d-1b836404e6b2"
      },
      "execution_count": null,
      "outputs": [
        {
          "output_type": "execute_result",
          "data": {
            "text/plain": [
              "array([[6, 7, 8],\n",
              "       [9, 3, 4],\n",
              "       [8, 5, 7]])"
            ]
          },
          "metadata": {},
          "execution_count": 38
        }
      ]
    },
    {
      "cell_type": "code",
      "execution_count": null,
      "metadata": {
        "tags": [],
        "id": "cIpMSbMQi03N"
      },
      "outputs": [],
      "source": [
        "print(np.array([5,6,8,45,12,52]).reshape(2,3))\n"
      ]
    },
    {
      "cell_type": "markdown",
      "metadata": {
        "id": "sui_xg3xi03N"
      },
      "source": [
        "- **Method II**: Using matrix function\n"
      ]
    },
    {
      "cell_type": "code",
      "source": [
        "np.matrix([[4,5,6],[7,8,9],[6,5,4]])"
      ],
      "metadata": {
        "colab": {
          "base_uri": "https://localhost:8080/"
        },
        "id": "JKxPvCDzAsTy",
        "outputId": "1c335d6f-b90a-4edc-cc8b-3f258ba92b31"
      },
      "execution_count": null,
      "outputs": [
        {
          "output_type": "execute_result",
          "data": {
            "text/plain": [
              "matrix([[4, 5, 6],\n",
              "        [7, 8, 9],\n",
              "        [6, 5, 4]])"
            ]
          },
          "metadata": {},
          "execution_count": 39
        }
      ]
    },
    {
      "cell_type": "code",
      "execution_count": null,
      "metadata": {
        "tags": [],
        "id": "ew_oBvBgi03N"
      },
      "outputs": [],
      "source": [
        "print(np.matrix([[1,2],[3,4]]))\n"
      ]
    },
    {
      "cell_type": "markdown",
      "metadata": {
        "id": "RnfavHYki03N"
      },
      "source": [
        "- **Method III**: Using misc. functions\n"
      ]
    },
    {
      "cell_type": "code",
      "execution_count": null,
      "metadata": {
        "tags": [],
        "colab": {
          "base_uri": "https://localhost:8080/"
        },
        "id": "gpqka_Phi03O",
        "outputId": "1064d23f-5029-441e-f8bd-fc7412b2c6a5"
      },
      "outputs": [
        {
          "output_type": "stream",
          "name": "stdout",
          "text": [
            "[[1. 0. 0. 0.]\n",
            " [0. 1. 0. 0.]\n",
            " [0. 0. 1. 0.]\n",
            " [0. 0. 0. 1.]]\n"
          ]
        }
      ],
      "source": [
        "print(np.eye(4)) # Identity matrix\n"
      ]
    },
    {
      "cell_type": "code",
      "execution_count": null,
      "metadata": {
        "tags": [],
        "colab": {
          "base_uri": "https://localhost:8080/"
        },
        "id": "lJedn1Zci03O",
        "outputId": "09aafd98-707d-434b-ca05-ddca69b079de"
      },
      "outputs": [
        {
          "output_type": "stream",
          "name": "stdout",
          "text": [
            "[[0. 0. 0.]\n",
            " [0. 0. 0.]\n",
            " [0. 0. 0.]\n",
            " [0. 0. 0.]]\n"
          ]
        }
      ],
      "source": [
        "print( np.zeros( (4,3) ) )\n"
      ]
    },
    {
      "cell_type": "code",
      "execution_count": null,
      "metadata": {
        "tags": [],
        "colab": {
          "base_uri": "https://localhost:8080/"
        },
        "id": "lRe5o-6xi03O",
        "outputId": "0fbb3cda-b03c-40ed-a96f-a9ee76b73b62"
      },
      "outputs": [
        {
          "output_type": "stream",
          "name": "stdout",
          "text": [
            "[[1. 1. 1. 1. 1.]\n",
            " [1. 1. 1. 1. 1.]\n",
            " [1. 1. 1. 1. 1.]\n",
            " [1. 1. 1. 1. 1.]]\n"
          ]
        }
      ],
      "source": [
        "print(np.ones( (4,5), np.float64))\n"
      ]
    },
    {
      "cell_type": "markdown",
      "metadata": {
        "id": "g0GW6dqwi03O"
      },
      "source": [
        "- **Useful Functions**:\n"
      ]
    },
    {
      "cell_type": "code",
      "source": [
        "np.arange(20,30, dtype='float64')"
      ],
      "metadata": {
        "colab": {
          "base_uri": "https://localhost:8080/"
        },
        "id": "2P-LpctFBqHd",
        "outputId": "887e1f44-73d6-4bf0-b0dc-1891446412b4"
      },
      "execution_count": null,
      "outputs": [
        {
          "output_type": "execute_result",
          "data": {
            "text/plain": [
              "array([20., 21., 22., 23., 24., 25., 26., 27., 28., 29.])"
            ]
          },
          "metadata": {},
          "execution_count": 54
        }
      ]
    },
    {
      "cell_type": "code",
      "execution_count": null,
      "metadata": {
        "tags": [],
        "id": "spI5xlHfi03O"
      },
      "outputs": [],
      "source": [
        "# NumPy array from 1 to 19\n",
        "print(np.arange(1,20,dtype='int32'))"
      ]
    },
    {
      "cell_type": "code",
      "execution_count": null,
      "metadata": {
        "tags": [],
        "colab": {
          "base_uri": "https://localhost:8080/"
        },
        "id": "4p-4tOo-i03O",
        "outputId": "7cc660c1-3d7b-4de7-e96b-c2fc5d6d8a24"
      },
      "outputs": [
        {
          "output_type": "stream",
          "name": "stdout",
          "text": [
            "[ 1  3  5  7  9 11 13 15 17 19]\n"
          ]
        }
      ],
      "source": [
        "# NumPy array from 1 to 19 with step size 2\n",
        "print(np.arange(1,20,2,dtype='int8'))"
      ]
    },
    {
      "cell_type": "markdown",
      "metadata": {
        "id": "nlFjU1FsT5C1"
      },
      "source": [
        "#### Practice Exercise:"
      ]
    },
    {
      "cell_type": "raw",
      "metadata": {
        "id": "PuU4xLKQT5C2"
      },
      "source": [
        "1.  Store the marks and IDs of three students as NumPy arrays.\n",
        "    The marks are [20, 30, 40] and IDs are [0,2,4].\n",
        "    Store array for marks in a variable marks and the one for IDs in another variable ids.\n",
        "    Display both marks and ids.\n",
        "    \n",
        "2.  Given two NumPy arrays arr1 = [25, 56, 12, 85, 34, 75] and arr2 = [42, 3, 86, 32, 856, 46], solve the following:\n",
        "\n",
        "     a. Create a new NumPy array Narr with the shape equal to arr1 filled with random values.\n",
        "\n",
        "     b. Permanently change the dtype of arr1 to complex\n",
        "     \n",
        "     Hint:\n",
        "\n",
        "     Use np.random.rand()\n",
        "\n",
        "     Use astype(). \n",
        "     \n",
        "     Answer: [ 25.+0.j 56.+0.j 12.+0.j 85.+0.j 34.+0.j 75.+0.j]"
      ]
    },
    {
      "cell_type": "markdown",
      "metadata": {
        "id": "5c__ojKwT5C3"
      },
      "source": [
        "## 3. Indexing and Slicing:"
      ]
    },
    {
      "cell_type": "markdown",
      "metadata": {
        "id": "LPRIfp4hT5C3"
      },
      "source": [
        "### Indexing:\n",
        "\n",
        "We now know how to create different types of NumPy arrays and check their features. But how about accessing a particular value or taking a chunk of values from the array itself? In this topic, we are going to discuss exactly that.\n",
        "\n",
        "Like Python lists, the index starts at 0 for arrays as well. It follows the same pattern of array[start:stop: step]. Let us look at an example to observe this behaviour."
      ]
    },
    {
      "cell_type": "code",
      "source": [
        "x = 'pyhton'\n",
        "x[0]"
      ],
      "metadata": {
        "colab": {
          "base_uri": "https://localhost:8080/",
          "height": 35
        },
        "id": "IbKZdjj_FG8-",
        "outputId": "f99fa8e4-6594-4bdc-8e2f-e605b1ad0127"
      },
      "execution_count": null,
      "outputs": [
        {
          "output_type": "execute_result",
          "data": {
            "text/plain": [
              "'p'"
            ],
            "application/vnd.google.colaboratory.intrinsic+json": {
              "type": "string"
            }
          },
          "metadata": {},
          "execution_count": 56
        }
      ]
    },
    {
      "cell_type": "code",
      "source": [
        "a = np.array([9,8,7,6,5])\n",
        "a[2]"
      ],
      "metadata": {
        "colab": {
          "base_uri": "https://localhost:8080/"
        },
        "id": "7B3Q9yWHFNwq",
        "outputId": "2d39bf8a-2971-487d-f212-295a28fead03"
      },
      "execution_count": null,
      "outputs": [
        {
          "output_type": "execute_result",
          "data": {
            "text/plain": [
              "7"
            ]
          },
          "metadata": {},
          "execution_count": 57
        }
      ]
    },
    {
      "cell_type": "code",
      "source": [
        "a = np.array([[1,2,3],[4,5,6],[7,8,9],[9,7,4],[0,8,7]])\n",
        "a"
      ],
      "metadata": {
        "colab": {
          "base_uri": "https://localhost:8080/"
        },
        "id": "mafl2N7oFa2Y",
        "outputId": "b72c01b4-03f2-4dc2-bfe3-699bc1fad617"
      },
      "execution_count": null,
      "outputs": [
        {
          "output_type": "execute_result",
          "data": {
            "text/plain": [
              "array([[1, 2, 3],\n",
              "       [4, 5, 6],\n",
              "       [7, 8, 9],\n",
              "       [9, 7, 4],\n",
              "       [0, 8, 7]])"
            ]
          },
          "metadata": {},
          "execution_count": 66
        }
      ]
    },
    {
      "cell_type": "code",
      "source": [
        "a[2][2]"
      ],
      "metadata": {
        "colab": {
          "base_uri": "https://localhost:8080/"
        },
        "id": "dMDo_1iRFdKi",
        "outputId": "4f0f8418-367b-455f-a205-4a29d6d0d47a"
      },
      "execution_count": null,
      "outputs": [
        {
          "output_type": "execute_result",
          "data": {
            "text/plain": [
              "9"
            ]
          },
          "metadata": {},
          "execution_count": 63
        }
      ]
    },
    {
      "cell_type": "code",
      "source": [
        "a[2:, 2:]"
      ],
      "metadata": {
        "colab": {
          "base_uri": "https://localhost:8080/"
        },
        "id": "TA9nX07QGYQO",
        "outputId": "47c21c13-e18c-4bb1-a7e8-0e4dca47a8b0"
      },
      "execution_count": null,
      "outputs": [
        {
          "output_type": "execute_result",
          "data": {
            "text/plain": [
              "array([[9],\n",
              "       [4],\n",
              "       [7]])"
            ]
          },
          "metadata": {},
          "execution_count": 81
        }
      ]
    },
    {
      "cell_type": "code",
      "source": [
        "a[0:3, 1:]"
      ],
      "metadata": {
        "colab": {
          "base_uri": "https://localhost:8080/"
        },
        "id": "OhChxTtHF_qF",
        "outputId": "4919560f-ee47-4e22-8053-40f3de31e4db"
      },
      "execution_count": null,
      "outputs": [
        {
          "output_type": "execute_result",
          "data": {
            "text/plain": [
              "array([[2, 3],\n",
              "       [5, 6],\n",
              "       [8, 9]])"
            ]
          },
          "metadata": {},
          "execution_count": 65
        }
      ]
    },
    {
      "cell_type": "code",
      "source": [
        "import numpy as np"
      ],
      "metadata": {
        "id": "cvyiI1eRFFbs"
      },
      "execution_count": null,
      "outputs": []
    },
    {
      "cell_type": "code",
      "source": [
        "a = np.array([[1,2,3],[4,5,6],[7,8,9],[8,6,5],[9,0,9]])\n",
        "a"
      ],
      "metadata": {
        "colab": {
          "base_uri": "https://localhost:8080/"
        },
        "id": "nfjzZWEyFRz6",
        "outputId": "2415f7ed-dced-4629-cfe9-da8b342ddedb"
      },
      "execution_count": null,
      "outputs": [
        {
          "output_type": "execute_result",
          "data": {
            "text/plain": [
              "array([[1, 2, 3],\n",
              "       [4, 5, 6],\n",
              "       [7, 8, 9],\n",
              "       [8, 6, 5],\n",
              "       [9, 0, 9]])"
            ]
          },
          "metadata": {},
          "execution_count": 8
        }
      ]
    },
    {
      "cell_type": "code",
      "source": [
        "a[2][0]"
      ],
      "metadata": {
        "colab": {
          "base_uri": "https://localhost:8080/"
        },
        "id": "KE0pehQgFZK9",
        "outputId": "0b70b87e-1dca-46eb-b60d-c8b78d0f32ed"
      },
      "execution_count": null,
      "outputs": [
        {
          "output_type": "execute_result",
          "data": {
            "text/plain": [
              "7"
            ]
          },
          "metadata": {},
          "execution_count": 7
        }
      ]
    },
    {
      "cell_type": "code",
      "source": [
        "a[0:,1:2]"
      ],
      "metadata": {
        "colab": {
          "base_uri": "https://localhost:8080/"
        },
        "id": "jz3mxCBNF1lu",
        "outputId": "2f385764-f046-45b1-d1c0-14ef0f8c44d1"
      },
      "execution_count": null,
      "outputs": [
        {
          "output_type": "execute_result",
          "data": {
            "text/plain": [
              "array([[2],\n",
              "       [5],\n",
              "       [8],\n",
              "       [6],\n",
              "       [0]])"
            ]
          },
          "metadata": {},
          "execution_count": 11
        }
      ]
    },
    {
      "cell_type": "code",
      "execution_count": null,
      "metadata": {
        "tags": [],
        "id": "y75WG_1ei03O"
      },
      "outputs": [],
      "source": [
        "a = np.array([[1,2,3],[4,5,6],[7,8,9]])\n",
        "\n",
        "# Pull out second element of third row\n",
        "print(a[2][1])\n",
        "print('==========')\n",
        "# Pull out first two rows and columns\n",
        "print(a[:2,:2])\n",
        "print('==========')\n",
        "# Pull all elements of the third row\n",
        "print(a[2,:])"
      ]
    },
    {
      "cell_type": "markdown",
      "metadata": {
        "id": "4RbPc4gii03O"
      },
      "source": [
        "### Integer Array Indexing:\n",
        "\n",
        "Integer array indexing allows you to construct arbitrary arrays using the data from another array. Let us understand from the example\n",
        "\n",
        "An example of integer array indexing:"
      ]
    },
    {
      "cell_type": "code",
      "execution_count": null,
      "metadata": {
        "tags": [],
        "id": "TrJyfjBXi03O"
      },
      "outputs": [],
      "source": [
        "a=np.array([[1,2],[3,4],[5,6]])\n",
        "\n",
        "print(a[[0,1,2],[0,1,0]])\n",
        "print('==========')\n",
        "\n",
        "print(np.array([a[0,0],a[1,1],a[2,0]]))\n",
        "print('==========')\n",
        "\n",
        "print(a[[0,0],[1,1]])\n",
        "print('==========')\n",
        "\n",
        "print(np.array([a[0,1],a[0,1]]))"
      ]
    },
    {
      "cell_type": "code",
      "source": [
        "a"
      ],
      "metadata": {
        "colab": {
          "base_uri": "https://localhost:8080/"
        },
        "id": "5MqPFR_yGbwo",
        "outputId": "464a0502-9b36-45d6-d077-793e8d339e0e"
      },
      "execution_count": null,
      "outputs": [
        {
          "output_type": "execute_result",
          "data": {
            "text/plain": [
              "array([[1, 2, 3],\n",
              "       [4, 5, 6],\n",
              "       [7, 8, 9],\n",
              "       [8, 6, 5],\n",
              "       [9, 0, 9]])"
            ]
          },
          "metadata": {},
          "execution_count": 12
        }
      ]
    },
    {
      "cell_type": "code",
      "source": [
        "a[[2],[1]]"
      ],
      "metadata": {
        "colab": {
          "base_uri": "https://localhost:8080/"
        },
        "id": "UJyac7C4GgHA",
        "outputId": "f7ba3b67-2b4e-470c-f2dd-90165b8be3a6"
      },
      "execution_count": null,
      "outputs": [
        {
          "output_type": "execute_result",
          "data": {
            "text/plain": [
              "array([8])"
            ]
          },
          "metadata": {},
          "execution_count": 14
        }
      ]
    },
    {
      "cell_type": "code",
      "source": [
        "print(np.array([a[0,0],a[1,1],a[2,2]]))"
      ],
      "metadata": {
        "colab": {
          "base_uri": "https://localhost:8080/"
        },
        "id": "rlGiupvbG1zU",
        "outputId": "6760c1ac-3c2f-4d04-fcdc-9fbab6fdc677"
      },
      "execution_count": null,
      "outputs": [
        {
          "output_type": "stream",
          "name": "stdout",
          "text": [
            "[1 5 9]\n"
          ]
        }
      ]
    },
    {
      "cell_type": "markdown",
      "metadata": {
        "id": "Aodyn1s6i03O"
      },
      "source": [
        "Explanation: The print statements 1 & 2 and 3 & 4 yield the same results. In the first case, a[[0, 1, 2], [0, 1, 0]] essentially means we are indexing the value in first row-first column, second row-second column and third row-first column, which is the same as a[0, 0], a[1, 1], a[2, 0]]. Similarly, you should be able to deduce the logic behind the second case."
      ]
    },
    {
      "cell_type": "markdown",
      "metadata": {
        "id": "bSUqrtuei03O"
      },
      "source": [
        "### Boolean Indexing:\n",
        "This type is generally used for comparison purposes. A boolean index array is of the same shape as the array-to-be-filtered and it contains only True and False values.\n",
        "\n",
        "Let's look at an example:"
      ]
    },
    {
      "cell_type": "code",
      "execution_count": null,
      "metadata": {
        "tags": [],
        "id": "l4DMvZ7Qi03P"
      },
      "outputs": [],
      "source": [
        "a = np.array([[4,7,1],[2,5,7],[7,1,1]])\n",
        "\n",
        "# Boolean condition for values greater than 3\n",
        "mask = a > 3\n",
        "print(mask)\n",
        "\n",
        "# Masking for the above boolean condition in the array\n",
        "print(a[mask])"
      ]
    },
    {
      "cell_type": "code",
      "source": [
        "a = np.array([[4,7,1],[2,5,7],[7,1,1]])\n",
        "a"
      ],
      "metadata": {
        "colab": {
          "base_uri": "https://localhost:8080/"
        },
        "id": "LFHgSursHNg9",
        "outputId": "7117440e-f43c-4ae3-e417-a906df9a4d65"
      },
      "execution_count": null,
      "outputs": [
        {
          "output_type": "execute_result",
          "data": {
            "text/plain": [
              "array([[4, 7, 1],\n",
              "       [2, 5, 7],\n",
              "       [7, 1, 1]])"
            ]
          },
          "metadata": {},
          "execution_count": 17
        }
      ]
    },
    {
      "cell_type": "code",
      "source": [
        "a > 3"
      ],
      "metadata": {
        "colab": {
          "base_uri": "https://localhost:8080/"
        },
        "id": "C7uBsg7sHQ8O",
        "outputId": "6582093e-befb-4c70-a3b2-fb647d98fafc"
      },
      "execution_count": null,
      "outputs": [
        {
          "output_type": "execute_result",
          "data": {
            "text/plain": [
              "array([[ True,  True, False],\n",
              "       [False,  True,  True],\n",
              "       [ True, False, False]])"
            ]
          },
          "metadata": {},
          "execution_count": 18
        }
      ]
    },
    {
      "cell_type": "markdown",
      "metadata": {
        "id": "bkcayOeQi03P"
      },
      "source": [
        "#### Practice Exercise:\n",
        "\n",
        "- Create an array with values 3, 4.5, 3 + 5j and 0. Check the values are real or imaginary.\n",
        "\n",
        "Hint: Use functions .isreal(array) and .iscomplex(array)"
      ]
    },
    {
      "cell_type": "markdown",
      "metadata": {
        "id": "6eV0H5cOi03P"
      },
      "source": [
        "## 4. Vectorization:\n",
        "\n",
        "Vectorization is the ability of NumPy by which we can perform operations on entire arrays rather than on a single element.\n",
        "\n",
        "\n"
      ]
    },
    {
      "cell_type": "code",
      "execution_count": null,
      "metadata": {
        "tags": [],
        "id": "HaNvicA7i03P"
      },
      "outputs": [],
      "source": [
        "#Example:\n",
        "\n",
        "import numpy as np\n",
        "arr = np.array([1,2,3,4,5,6,7])\n",
        "print(arr[arr > 2])"
      ]
    },
    {
      "cell_type": "markdown",
      "metadata": {
        "id": "tSA0cpeLi03P"
      },
      "source": [
        "The output of above code block will be \"[3,4,5,6,7]\" as it compares each element being greater than or less than 2.\n"
      ]
    },
    {
      "cell_type": "code",
      "source": [
        "arr = np.array([1,2,3,4,5,6,7])\n",
        "arr"
      ],
      "metadata": {
        "colab": {
          "base_uri": "https://localhost:8080/"
        },
        "id": "FeWd6d9uH3yZ",
        "outputId": "c003bea7-4d02-4068-d51e-f22b782b92f8"
      },
      "execution_count": null,
      "outputs": [
        {
          "output_type": "execute_result",
          "data": {
            "text/plain": [
              "array([1, 2, 3, 4, 5, 6, 7])"
            ]
          },
          "metadata": {},
          "execution_count": 20
        }
      ]
    },
    {
      "cell_type": "code",
      "source": [
        "arr[arr > 4]"
      ],
      "metadata": {
        "colab": {
          "base_uri": "https://localhost:8080/"
        },
        "id": "5I_wCManH8af",
        "outputId": "c7dfe90e-1f0f-4598-be57-09cbbe565830"
      },
      "execution_count": null,
      "outputs": [
        {
          "output_type": "execute_result",
          "data": {
            "text/plain": [
              "array([5, 6, 7])"
            ]
          },
          "metadata": {},
          "execution_count": 21
        }
      ]
    },
    {
      "cell_type": "markdown",
      "metadata": {
        "id": "JhM5XZNsi03P"
      },
      "source": [
        "**Vectorized Operations**:\n",
        "\n"
      ]
    },
    {
      "cell_type": "code",
      "execution_count": null,
      "metadata": {
        "id": "--fbF-B8i03P"
      },
      "outputs": [],
      "source": [
        "# Creating two arrays for operations\n",
        "\n",
        "a = np.array([[1,2,3],[4,5,6],[7,8,9]])\n",
        "b = np.array([[10,11,12],[13,14,15],[16,17,18]])\n"
      ]
    },
    {
      "cell_type": "code",
      "source": [
        "a"
      ],
      "metadata": {
        "colab": {
          "base_uri": "https://localhost:8080/"
        },
        "id": "6XF1wYSAIE8H",
        "outputId": "068a61c2-33bb-4630-91b6-5119fd932cf1"
      },
      "execution_count": null,
      "outputs": [
        {
          "output_type": "execute_result",
          "data": {
            "text/plain": [
              "array([[1, 2, 3],\n",
              "       [4, 5, 6],\n",
              "       [7, 8, 9]])"
            ]
          },
          "metadata": {},
          "execution_count": 23
        }
      ]
    },
    {
      "cell_type": "code",
      "source": [
        "b"
      ],
      "metadata": {
        "colab": {
          "base_uri": "https://localhost:8080/"
        },
        "id": "AvOHLL5GIGyH",
        "outputId": "62783dd5-52e8-4ccf-f284-9ef601a612b0"
      },
      "execution_count": null,
      "outputs": [
        {
          "output_type": "execute_result",
          "data": {
            "text/plain": [
              "array([[10, 11, 12],\n",
              "       [13, 14, 15],\n",
              "       [16, 17, 18]])"
            ]
          },
          "metadata": {},
          "execution_count": 24
        }
      ]
    },
    {
      "cell_type": "code",
      "source": [
        "a + b"
      ],
      "metadata": {
        "colab": {
          "base_uri": "https://localhost:8080/"
        },
        "id": "YuVgHSe3IJ6C",
        "outputId": "5938f824-2508-4acd-b029-4359b744280e"
      },
      "execution_count": null,
      "outputs": [
        {
          "output_type": "execute_result",
          "data": {
            "text/plain": [
              "array([[11, 13, 15],\n",
              "       [17, 19, 21],\n",
              "       [23, 25, 27]])"
            ]
          },
          "metadata": {},
          "execution_count": 25
        }
      ]
    },
    {
      "cell_type": "markdown",
      "metadata": {
        "id": "ldUjNbJci03P"
      },
      "source": [
        "Addition :"
      ]
    },
    {
      "cell_type": "code",
      "execution_count": null,
      "metadata": {
        "tags": [],
        "id": "me9wlCF5i03P"
      },
      "outputs": [],
      "source": [
        "print(a+b)\n"
      ]
    },
    {
      "cell_type": "markdown",
      "metadata": {
        "id": "QgM5GZbIi03P"
      },
      "source": [
        "Substraction :"
      ]
    },
    {
      "cell_type": "code",
      "execution_count": null,
      "metadata": {
        "tags": [],
        "id": "u0WZp1S0i03P"
      },
      "outputs": [],
      "source": [
        "print(a-b)"
      ]
    },
    {
      "cell_type": "markdown",
      "metadata": {
        "id": "b-VqZaOui03P"
      },
      "source": [
        "Multiplication :"
      ]
    },
    {
      "cell_type": "code",
      "execution_count": null,
      "metadata": {
        "tags": [],
        "colab": {
          "base_uri": "https://localhost:8080/"
        },
        "id": "E1rhzhcmi03P",
        "outputId": "4009152c-68bf-4321-d869-2f9218f2a128"
      },
      "outputs": [
        {
          "output_type": "stream",
          "name": "stdout",
          "text": [
            "[[ 10  22  36]\n",
            " [ 52  70  90]\n",
            " [112 136 162]]\n"
          ]
        }
      ],
      "source": [
        "print(a*b)"
      ]
    },
    {
      "cell_type": "markdown",
      "metadata": {
        "id": "MZ1sJiB0i03P"
      },
      "source": [
        "Division :"
      ]
    },
    {
      "cell_type": "code",
      "execution_count": null,
      "metadata": {
        "tags": [],
        "colab": {
          "base_uri": "https://localhost:8080/"
        },
        "id": "8qb1ofrfi03P",
        "outputId": "be1ab6c0-95df-451a-a39d-efaeb49d06d4"
      },
      "outputs": [
        {
          "output_type": "stream",
          "name": "stdout",
          "text": [
            "[[0.1        0.18181818 0.25      ]\n",
            " [0.30769231 0.35714286 0.4       ]\n",
            " [0.4375     0.47058824 0.5       ]]\n"
          ]
        }
      ],
      "source": [
        "print(a/b)"
      ]
    },
    {
      "cell_type": "markdown",
      "metadata": {
        "id": "5YFJ_MEIi03P"
      },
      "source": [
        "Square Root Transformation : "
      ]
    },
    {
      "cell_type": "code",
      "source": [
        "a = np.array([[1,4,9],[16,25,36]])\n",
        "a"
      ],
      "metadata": {
        "colab": {
          "base_uri": "https://localhost:8080/"
        },
        "id": "l-VFsr0_Ia_w",
        "outputId": "a6f8c6b8-00b2-4dca-fe74-5bce06bf5806"
      },
      "execution_count": null,
      "outputs": [
        {
          "output_type": "execute_result",
          "data": {
            "text/plain": [
              "array([[ 1,  4,  9],\n",
              "       [16, 25, 36]])"
            ]
          },
          "metadata": {},
          "execution_count": 28
        }
      ]
    },
    {
      "cell_type": "code",
      "source": [
        "np.sqrt(a)"
      ],
      "metadata": {
        "colab": {
          "base_uri": "https://localhost:8080/"
        },
        "id": "yYedgl_3JAZN",
        "outputId": "62d373bc-1e31-43e0-8e0a-5576f6f10906"
      },
      "execution_count": null,
      "outputs": [
        {
          "output_type": "execute_result",
          "data": {
            "text/plain": [
              "array([[1., 2., 3.],\n",
              "       [4., 5., 6.]])"
            ]
          },
          "metadata": {},
          "execution_count": 29
        }
      ]
    },
    {
      "cell_type": "code",
      "source": [
        "np.sqrt(625)"
      ],
      "metadata": {
        "colab": {
          "base_uri": "https://localhost:8080/"
        },
        "id": "PmefeCXGJGNF",
        "outputId": "649972f7-e551-4355-cb86-0e26f73a73ac"
      },
      "execution_count": null,
      "outputs": [
        {
          "output_type": "execute_result",
          "data": {
            "text/plain": [
              "25.0"
            ]
          },
          "metadata": {},
          "execution_count": 30
        }
      ]
    },
    {
      "cell_type": "code",
      "execution_count": null,
      "metadata": {
        "tags": [],
        "id": "R7EF1ZzJi03P"
      },
      "outputs": [],
      "source": [
        "a = np.array([[1,4,9],[16,25,36]])\n",
        "print(np.sqrt(a))"
      ]
    },
    {
      "cell_type": "code",
      "source": [
        "a = [3,7,7,8,9,3]"
      ],
      "metadata": {
        "id": "9aTQnmkjJjTn"
      },
      "execution_count": null,
      "outputs": []
    },
    {
      "cell_type": "code",
      "source": [
        "np.mean(a)"
      ],
      "metadata": {
        "colab": {
          "base_uri": "https://localhost:8080/"
        },
        "id": "pMpF_thxJnho",
        "outputId": "39dd3310-8314-4209-92b3-48a429721c02"
      },
      "execution_count": null,
      "outputs": [
        {
          "output_type": "execute_result",
          "data": {
            "text/plain": [
              "6.166666666666667"
            ]
          },
          "metadata": {},
          "execution_count": 33
        }
      ]
    },
    {
      "cell_type": "code",
      "source": [
        "a = 7 \n",
        "b = 8\n",
        "\n",
        "np.add(a,b)"
      ],
      "metadata": {
        "colab": {
          "base_uri": "https://localhost:8080/"
        },
        "id": "7aeUVetDJWy0",
        "outputId": "9168a6f3-7899-4163-cd51-54aa3dd76db0"
      },
      "execution_count": null,
      "outputs": [
        {
          "output_type": "execute_result",
          "data": {
            "text/plain": [
              "15"
            ]
          },
          "metadata": {},
          "execution_count": 31
        }
      ]
    },
    {
      "cell_type": "markdown",
      "metadata": {
        "id": "Df9SdwJFi03P"
      },
      "source": [
        "**These functions can also be as**:\n",
        "\n",
        "1. np.add(a,b)\n",
        "2. np.substract(a,b)\n",
        "3. np.multiply(a,b)\n",
        "4. np.divide(a,b)\n",
        "5. np.sqrt(a)\n",
        "6. np.log(a)"
      ]
    },
    {
      "cell_type": "code",
      "source": [
        "x = [5,8,9,4,3,9]"
      ],
      "metadata": {
        "id": "iG4OXCxYKFrF"
      },
      "execution_count": null,
      "outputs": []
    },
    {
      "cell_type": "code",
      "source": [
        "3, 4, 5, 8, 9, 9"
      ],
      "metadata": {
        "id": "eG0640bRLLbX"
      },
      "execution_count": null,
      "outputs": []
    },
    {
      "cell_type": "code",
      "source": [
        "np.sum(x)"
      ],
      "metadata": {
        "colab": {
          "base_uri": "https://localhost:8080/"
        },
        "id": "yUYzwWEUKKRm",
        "outputId": "0c322a96-ac7c-429c-cdd6-45f177833707"
      },
      "execution_count": null,
      "outputs": [
        {
          "output_type": "execute_result",
          "data": {
            "text/plain": [
              "38"
            ]
          },
          "metadata": {},
          "execution_count": 35
        }
      ]
    },
    {
      "cell_type": "code",
      "source": [
        "np.cumsum(x)"
      ],
      "metadata": {
        "colab": {
          "base_uri": "https://localhost:8080/"
        },
        "id": "X9I9ceXxKPaQ",
        "outputId": "dfe3f373-bd9c-4db4-f0ac-70f869a8cfe6"
      },
      "execution_count": null,
      "outputs": [
        {
          "output_type": "execute_result",
          "data": {
            "text/plain": [
              "array([ 5, 13, 22, 26, 29, 38])"
            ]
          },
          "metadata": {},
          "execution_count": 38
        }
      ]
    },
    {
      "cell_type": "code",
      "source": [
        "np.mean(x)"
      ],
      "metadata": {
        "colab": {
          "base_uri": "https://localhost:8080/"
        },
        "id": "3NBLsmHZKmeR",
        "outputId": "a0cbf036-789a-45a0-e623-a41229638a5e"
      },
      "execution_count": null,
      "outputs": [
        {
          "output_type": "execute_result",
          "data": {
            "text/plain": [
              "6.333333333333333"
            ]
          },
          "metadata": {},
          "execution_count": 39
        }
      ]
    },
    {
      "cell_type": "code",
      "source": [
        "np.median(x)"
      ],
      "metadata": {
        "colab": {
          "base_uri": "https://localhost:8080/"
        },
        "id": "_HPZZBMrKp14",
        "outputId": "acd73ed5-658b-4577-a0f3-9c0aa626955c"
      },
      "execution_count": null,
      "outputs": [
        {
          "output_type": "execute_result",
          "data": {
            "text/plain": [
              "6.5"
            ]
          },
          "metadata": {},
          "execution_count": 41
        }
      ]
    },
    {
      "cell_type": "markdown",
      "metadata": {
        "id": "Klk0ygMFi03Q"
      },
      "source": [
        "**Practice usage of following aggregate functions**:\n",
        "\n",
        "1. a.sum()    Array-wise sum\n",
        "2. a.min()    Array-wise minimum value\n",
        "3. a.max(axis=0)    Maximum value of an array row\n",
        "4. a.cumsum(axis=1)    Cumulative sum of the elements\n",
        "5. a.mean()    Mean\n",
        "6. np.median(a)    Median\n",
        "7. np.corrcoef(a)    Correlation coefficient\n",
        "8. np.std(a)    Standard deviation\n",
        "\n",
        "\n"
      ]
    },
    {
      "cell_type": "code",
      "source": [
        "np.std(a)"
      ],
      "metadata": {
        "colab": {
          "base_uri": "https://localhost:8080/"
        },
        "id": "ZKCPUntMLwnA",
        "outputId": "8ce69b58-62be-4dec-90ec-888461fc0ef5"
      },
      "execution_count": null,
      "outputs": [
        {
          "output_type": "execute_result",
          "data": {
            "text/plain": [
              "2.3392781412697"
            ]
          },
          "metadata": {},
          "execution_count": 42
        }
      ]
    },
    {
      "cell_type": "markdown",
      "metadata": {
        "id": "4mthmr-ji03Q"
      },
      "source": [
        "### Array Comparison and Understanding Axes Notation:\n",
        "\n",
        "**Array Comparison**:\n",
        "\n",
        "Entire array can be compared to another array using function np.array_equal\n"
      ]
    },
    {
      "cell_type": "code",
      "execution_count": null,
      "metadata": {
        "tags": [],
        "id": "-ryZpRs4i03Q"
      },
      "outputs": [],
      "source": [
        "# Example:\n",
        "\n",
        "a = np.array([5,6,7,8])\n",
        "b = np.array([5,6,7,8])\n",
        "print(np.array_equal(a,b))"
      ]
    },
    {
      "cell_type": "markdown",
      "metadata": {
        "id": "UzHFcax6i03Q"
      },
      "source": [
        "It compares both size and elements of the array.\n"
      ]
    },
    {
      "cell_type": "markdown",
      "metadata": {
        "id": "aRA1EV9zi03Q"
      },
      "source": [
        "### Axes Notation:\n",
        "\n",
        "Axes refer to a particular dimension of a multidimensional array. Axis determines whether the action will be performed row-wise, column-wise or on the whole array.\n",
        "\n",
        "Let's see an example:"
      ]
    },
    {
      "cell_type": "code",
      "source": [
        "a = np.array([[2,5,7],[4,25,30],[7,55,3]])\n",
        "a"
      ],
      "metadata": {
        "colab": {
          "base_uri": "https://localhost:8080/"
        },
        "id": "8tznIT4UMgyC",
        "outputId": "d1bbf7f5-c31a-4389-fd46-f71be95377a8"
      },
      "execution_count": null,
      "outputs": [
        {
          "output_type": "execute_result",
          "data": {
            "text/plain": [
              "array([[ 2,  5,  7],\n",
              "       [ 4, 25, 30],\n",
              "       [ 7, 55,  3]])"
            ]
          },
          "metadata": {},
          "execution_count": 48
        }
      ]
    },
    {
      "cell_type": "code",
      "source": [
        "a.sum()"
      ],
      "metadata": {
        "colab": {
          "base_uri": "https://localhost:8080/"
        },
        "id": "tbM1XxBANW3W",
        "outputId": "cff34830-4a65-4a68-c243-e4ff8beb862c"
      },
      "execution_count": null,
      "outputs": [
        {
          "output_type": "execute_result",
          "data": {
            "text/plain": [
              "138"
            ]
          },
          "metadata": {},
          "execution_count": 49
        }
      ]
    },
    {
      "cell_type": "code",
      "source": [
        "a.sum(axis=0)"
      ],
      "metadata": {
        "colab": {
          "base_uri": "https://localhost:8080/"
        },
        "id": "CZ_0IKtWMnKm",
        "outputId": "fa7884c7-c166-4d48-ba23-c67c7b784458"
      },
      "execution_count": null,
      "outputs": [
        {
          "output_type": "execute_result",
          "data": {
            "text/plain": [
              "array([14, 59, 65])"
            ]
          },
          "metadata": {},
          "execution_count": 45
        }
      ]
    },
    {
      "cell_type": "code",
      "source": [
        "a.sum(axis=0)"
      ],
      "metadata": {
        "colab": {
          "base_uri": "https://localhost:8080/"
        },
        "id": "d6b3qMfpM8pF",
        "outputId": "7c540c3d-a956-4017-ec19-1d291e788ca0"
      },
      "execution_count": null,
      "outputs": [
        {
          "output_type": "execute_result",
          "data": {
            "text/plain": [
              "array([13, 85, 40])"
            ]
          },
          "metadata": {},
          "execution_count": 46
        }
      ]
    },
    {
      "cell_type": "code",
      "source": [
        "a.min(axis=0)"
      ],
      "metadata": {
        "colab": {
          "base_uri": "https://localhost:8080/"
        },
        "id": "R47h-8KxNLeR",
        "outputId": "7e65a208-82a2-4d60-ce26-6cc990d67096"
      },
      "execution_count": null,
      "outputs": [
        {
          "output_type": "execute_result",
          "data": {
            "text/plain": [
              "array([2, 5, 3])"
            ]
          },
          "metadata": {},
          "execution_count": 47
        }
      ]
    },
    {
      "cell_type": "code",
      "execution_count": null,
      "metadata": {
        "tags": [],
        "id": "O4jzsLjKi03Q"
      },
      "outputs": [],
      "source": [
        "a = np.array([[2,5,7],[4,25,30]])\n",
        "\n",
        "# computes sum over columns\n",
        "print(a.sum(axis=0))\n",
        "print('==========')\n",
        "\n",
        "# computes sum over rows\n",
        "print(a.sum(axis=1))\n",
        "print('==========')\n",
        "\n",
        "# computes total sum\n",
        "print(a.sum())"
      ]
    },
    {
      "cell_type": "markdown",
      "metadata": {
        "id": "-YnA4zGoi03Q"
      },
      "source": [
        "### Practice Exercise:\n",
        "\n",
        "We have a buy sell problem:\n",
        "\n",
        "Initialize an array [[40, 35, 20], [21, 48, 70]] which constitutes the prices on 2 consecutive day at 3 different sessions of the day. The objective is to buy at minimum price on day 1 and sell at maximum on day.\n",
        "\n",
        "1. Find the minimum price on day 1.\n",
        "2. Find the maximum price on day 2.\n",
        "3. Calculate the profit and print it.\n",
        "4. Find the index of the session on which buying and selling took place."
      ]
    },
    {
      "cell_type": "markdown",
      "metadata": {
        "id": "-cUB5NIei03Q"
      },
      "source": [
        "### Hint:\n",
        "\n",
        "1. Use array.min() and array.max() to find the minimum and maximum prices.\n",
        "2. Filter arrays for different days using array[0:] and array[1:]\n",
        "3. Index = list(array).index(value)"
      ]
    },
    {
      "cell_type": "markdown",
      "metadata": {
        "id": "SeGdldqti03Q"
      },
      "source": [
        "## Step 1 : Read the Data! \n",
        "\n",
        "<Please add the file>"
      ]
    },
    {
      "cell_type": "code",
      "execution_count": null,
      "metadata": {
        "id": "-99eHGJwi03R"
      },
      "outputs": [],
      "source": [
        "data_file ='makeSenseOfCensus.csv'"
      ]
    },
    {
      "cell_type": "markdown",
      "metadata": {
        "id": "PXAlIyr7i03R"
      },
      "source": [
        "### Loading the data"
      ]
    },
    {
      "cell_type": "code",
      "execution_count": null,
      "metadata": {
        "id": "1sFlCnc5i03R"
      },
      "outputs": [],
      "source": [
        "data = np.genfromtxt(data_file, delimiter=\",\", skip_header=1)\n",
        "\n",
        "# printing the data\n",
        "\n",
        "print(\"\\nData: \\n\\n\", data)"
      ]
    },
    {
      "cell_type": "markdown",
      "metadata": {
        "id": "fOHfm7I9i03R"
      },
      "source": [
        "#### Printing the type of data"
      ]
    },
    {
      "cell_type": "code",
      "execution_count": null,
      "metadata": {
        "id": "Ep4wttuYi03R"
      },
      "outputs": [],
      "source": [
        "print(\"\\nType of data: \\n\\n\", type(data))"
      ]
    },
    {
      "cell_type": "markdown",
      "metadata": {
        "id": "abyllzLxi03R"
      },
      "source": [
        "## Step 2 : Append the Data\n",
        "\n",
        "#### Append 'new_record' (given) to 'data' using \"np.concatenate()\"¶\n"
      ]
    },
    {
      "cell_type": "code",
      "execution_count": null,
      "metadata": {
        "id": "PXIMollSi03R"
      },
      "outputs": [],
      "source": [
        "new_record=[[50, 9, 4, 1, 0, 0, 40, 0]]"
      ]
    },
    {
      "cell_type": "markdown",
      "metadata": {
        "id": "QpoV2OHGi03R"
      },
      "source": [
        "## Step 3 : Check if it's a young country or old country"
      ]
    },
    {
      "cell_type": "markdown",
      "metadata": {
        "id": "8koLlk1Li03R"
      },
      "source": [
        "- Create a new array called 'age' by taking only age column(age is the column with index 0) of 'census' array.\n",
        "\n",
        "- Find the max age and store it in a variable called 'max_age'.\n",
        "\n",
        "- Find the min age and store it in a variable called 'min_age'.\n",
        "\n",
        "- Find the mean of the age and store it in a variable called 'age_mean'.\n",
        "\n",
        "- Find the standard deviation of the age and store it in a variable called 'age_std'"
      ]
    },
    {
      "cell_type": "markdown",
      "metadata": {
        "id": "TIy_gaaii03R"
      },
      "source": [
        "## Step 4: Let's check the country's race distribution to identify the minorities\n",
        "\n"
      ]
    },
    {
      "cell_type": "markdown",
      "metadata": {
        "id": "PD5ImVg1i03R"
      },
      "source": [
        "- Create four different arrays by subsetting 'census' array by Race column(Race is the column with index 2) and save them in 'race_0','race_1', 'race_2', 'race_3' and 'race_4' respectively(Meaning: Store the array where 'race'column has value 0 in 'race_0', so on and so forth)\n",
        "\n",
        "- Store the length of the above created arrays in 'len_0', 'len_1','len_2', 'len_3' and 'len_4' respectively\n",
        "\n",
        "- Find out which is the race with the minimum no. of citizens\n",
        "\n",
        "- Store the number associated with the minority race in a variable called 'minority_race'(For eg: if \"len(race_5)\" is the minimum, store 5 in 'minority_race' because that is the index of the race having the least no. of citizens )"
      ]
    },
    {
      "cell_type": "markdown",
      "metadata": {
        "id": "RdcVHqK5i03R"
      },
      "source": [
        "## Step 5: As per govt. records citizens above 60 should not work more than 25 hours a week. Let us check if the policy is in place\n",
        "\n"
      ]
    },
    {
      "cell_type": "markdown",
      "metadata": {
        "id": "wpkQygBli03R"
      },
      "source": [
        "- Create a new subset array called 'senior_citizens' by filtering 'census' according to age>60 (age is the column with index 0)\n",
        "\n",
        "- Add all the working hours(working hours is the column with index 6) of 'senior_citizens' and store it in a variable called 'working_hours_sum'\n",
        "\n",
        "- Find the length of 'senior_citizens' and store it in a variable called 'senior_citizens_len'\n",
        "\n",
        "- Finally find the average working hours of the senior citizens by dividing 'working_hours_sum' by 'senior_citizens_len' and store it in a variable called 'avg_working hours'.\n",
        "\n",
        "- Print 'avg_working_hours' and see if the govt. policy is followed."
      ]
    },
    {
      "cell_type": "markdown",
      "metadata": {
        "id": "oEgdeQHRi03R"
      },
      "source": [
        "## Step 6: Let's check that higher educated people have better pay in general.\n",
        "\n"
      ]
    },
    {
      "cell_type": "markdown",
      "metadata": {
        "id": "6MKo14QNi03R"
      },
      "source": [
        "- Create two new subset arrays called 'high' and 'low' by filtering 'census' according to education-num>10 and education-num<=10 (education-num is the column with index 1) respectively.\n",
        "\n",
        "- Find the mean of income column(income is the column with index 7) of 'high' array and store it in 'avg_pay_high'. Do the same for 'low' array and store it's mean in 'avg_pay_low'.\n",
        "\n"
      ]
    },
    {
      "cell_type": "markdown",
      "metadata": {
        "id": "LzMNm_KTi03R"
      },
      "source": [
        "### Project :"
      ]
    },
    {
      "cell_type": "markdown",
      "metadata": {
        "id": "NO9NSc6ci03R"
      },
      "source": [
        "Let us build a complete project using NumPy (without any help).\n",
        "\n",
        "#### Path: project_data = 'KAG_Conversion_Data.csv'\n",
        "\n",
        "#### Features:\n",
        "\n",
        "1. ad_id:    unique ID for each ad\n",
        "2. xyzcampaignid:    an ID associated with each ad campaign of XYZ company\n",
        "3. fbcampaignid:    an ID associated with how Facebook tracks each campaign\n",
        "4. age:    age of the person to whom the ad is shown\n",
        "5. gender:    gender of the person to whom the add is shown\n",
        "6. interest:    a code specifying the category to which the person’s interest belongs (interests are as mentioned in the person’s Facebook public profile)\n",
        "7. Impressions:    the number of times the ad was shown\n",
        "8. Clicks:    number of clicks on for that ad\n",
        "9. Spent:    Amount paid by company xyz to Facebook, to show that ad\n",
        "10. Total conversion:    Total number of people who enquired about the product after seeing the ad\n",
        "11. Approved conversion:    Total number of people who bought the product after seeing the ad"
      ]
    },
    {
      "cell_type": "markdown",
      "metadata": {
        "id": "Ra9WnfOmi03S"
      },
      "source": [
        "#### Instructions:\n",
        "\n",
        "- Load the data. Data is already given to you in variable path\n",
        "\n",
        "- How many unique ad campaigns (xyzcampaignid) does this data contain ? And for how many times was each campaign run ?\n",
        "\n",
        "- What are the age groups that were targeted through these ad campaigns?\n",
        "\n",
        "- What was the average, minimum and maximum amount spent on the ads?\n",
        "\n",
        "- What is the id of the ad having the maximum number of clicks ?\n",
        "\n",
        "- How many people bought the product after seeing the ad with most clicks? Is that the maximum number of purchases in this dataset?\n",
        "\n",
        "- So the ad with the most clicks didn't fetch the maximum number of purchases. Find the details of the product having maximum number of purchases"
      ]
    }
  ],
  "metadata": {
    "kernelspec": {
      "display_name": "Python 3.8.3 64-bit",
      "language": "python",
      "name": "python_defaultSpec_1594911538685"
    },
    "language_info": {
      "codemirror_mode": {
        "name": "ipython",
        "version": 3
      },
      "file_extension": ".py",
      "mimetype": "text/x-python",
      "name": "python",
      "nbconvert_exporter": "python",
      "pygments_lexer": "ipython3",
      "version": "3.7.3"
    },
    "colab": {
      "provenance": []
    }
  },
  "nbformat": 4,
  "nbformat_minor": 0
}