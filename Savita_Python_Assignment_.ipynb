{
  "nbformat": 4,
  "nbformat_minor": 0,
  "metadata": {
    "colab": {
      "provenance": []
    },
    "kernelspec": {
      "name": "python3",
      "display_name": "Python 3"
    },
    "language_info": {
      "name": "python"
    }
  },
  "cells": [
    {
      "cell_type": "markdown",
      "source": [
        "## Problem 1 - Variables and Data Types\n",
        "\n",
        "Q1: Assign your name to the variable name."
      ],
      "metadata": {
        "id": "oDSTOfl_dbMC"
      }
    },
    {
      "cell_type": "code",
      "execution_count": null,
      "metadata": {
        "id": "bON0XhFwdVeD"
      },
      "outputs": [],
      "source": [
        "name = \"Savita\""
      ]
    },
    {
      "cell_type": "code",
      "source": [
        "name\n"
      ],
      "metadata": {
        "colab": {
          "base_uri": "https://localhost:8080/",
          "height": 36
        },
        "id": "vNecvzlPihUg",
        "outputId": "c6ddb368-641b-42d6-d961-50aed2c7e39d"
      },
      "execution_count": null,
      "outputs": [
        {
          "output_type": "execute_result",
          "data": {
            "text/plain": [
              "'Savita'"
            ],
            "application/vnd.google.colaboratory.intrinsic+json": {
              "type": "string"
            }
          },
          "metadata": {},
          "execution_count": 4
        }
      ]
    },
    {
      "cell_type": "markdown",
      "source": [
        "Q2: Assign your age (real or fake) to the variable age."
      ],
      "metadata": {
        "id": "06Dtit0qdnZ1"
      }
    },
    {
      "cell_type": "code",
      "source": [
        "age = 28"
      ],
      "metadata": {
        "id": "cjyxkk_6drlL"
      },
      "execution_count": null,
      "outputs": []
    },
    {
      "cell_type": "code",
      "source": [
        "age"
      ],
      "metadata": {
        "colab": {
          "base_uri": "https://localhost:8080/"
        },
        "id": "CNlF3KB1imp0",
        "outputId": "d4cd97a3-7f41-4a09-dac5-0f9fba6a83bb"
      },
      "execution_count": null,
      "outputs": [
        {
          "output_type": "execute_result",
          "data": {
            "text/plain": [
              "28"
            ]
          },
          "metadata": {},
          "execution_count": 6
        }
      ]
    },
    {
      "cell_type": "markdown",
      "source": [
        "Q3: Assign a boolean value to the variable has_android_phone."
      ],
      "metadata": {
        "id": "ql_z-k3QdwT4"
      }
    },
    {
      "cell_type": "code",
      "source": [
        "has_android_phone = True"
      ],
      "metadata": {
        "id": "bUvZzSEyd0ji"
      },
      "execution_count": null,
      "outputs": []
    },
    {
      "cell_type": "markdown",
      "source": [
        "You can check the values of these variables by running the next cell."
      ],
      "metadata": {
        "id": "pLZD8awWd53V"
      }
    },
    {
      "cell_type": "markdown",
      "source": [
        "Q4: Create a dictionary person with keys \"Name\", \"Age\", \"HasAndroidPhone\" and values using the variables defined above."
      ],
      "metadata": {
        "id": "ipiS2Kb9eG2V"
      }
    },
    {
      "cell_type": "code",
      "source": [
        "person = {\n",
        "          \"Name\":\"Savita\",\n",
        "          \"Age\":\"28\",\n",
        "          \"HasAndroidPhone\" :True\n",
        "          }"
      ],
      "metadata": {
        "id": "zNXBU6XVeHTI"
      },
      "execution_count": null,
      "outputs": []
    },
    {
      "cell_type": "markdown",
      "source": [
        "Let's use the person dictionary to print a nice message."
      ],
      "metadata": {
        "id": "zPDWiAVeebXm"
      }
    },
    {
      "cell_type": "code",
      "source": [
        "print(\"{} is aged {}, and owns an {}.\".format(\n",
        "    person[\"Name\"], \n",
        "    person[\"Age\"], \n",
        "    \"Android phone\" if person[\"HasAndroidPhone\"] else \"iPhone\"\n",
        "))"
      ],
      "metadata": {
        "id": "dNhd_fMvefV8",
        "colab": {
          "base_uri": "https://localhost:8080/"
        },
        "outputId": "b3b1bcbd-f71e-4333-cd46-921d61078f7a"
      },
      "execution_count": null,
      "outputs": [
        {
          "output_type": "stream",
          "name": "stdout",
          "text": [
            "Savita is aged 28, and owns an Android phone.\n"
          ]
        }
      ]
    },
    {
      "cell_type": "markdown",
      "source": [
        "## Problem 2 - Working with Lists\n",
        "\n",
        "Q5: Create a list containing the following 3 elements:\n",
        "\n",
        "- Your favorite color\n",
        "- The number of pets you have\n",
        "- A boolean value describing whether you have previous programming experience"
      ],
      "metadata": {
        "id": "bOUFbiIqewWU"
      }
    },
    {
      "cell_type": "code",
      "source": [
        "my_list =['Red',2,True]"
      ],
      "metadata": {
        "id": "Jsl9WVMMfM87"
      },
      "execution_count": null,
      "outputs": []
    },
    {
      "cell_type": "markdown",
      "source": [
        "Let's see what the list looks like:"
      ],
      "metadata": {
        "id": "Bi4aylZKfR5_"
      }
    },
    {
      "cell_type": "code",
      "source": [
        "my_list"
      ],
      "metadata": {
        "id": "4VkcujtPfUto",
        "colab": {
          "base_uri": "https://localhost:8080/"
        },
        "outputId": "4986f62e-498b-4c0d-edcd-553574497c7f"
      },
      "execution_count": null,
      "outputs": [
        {
          "output_type": "execute_result",
          "data": {
            "text/plain": [
              "['Red', 2, True]"
            ]
          },
          "metadata": {},
          "execution_count": 15
        }
      ]
    },
    {
      "cell_type": "markdown",
      "source": [
        "Q6: Complete the following print and if statements by accessing the appropriate elements from my_list.\n",
        "\n",
        "Hint: Use the list indexing notation [ ]."
      ],
      "metadata": {
        "id": "hgjyfXWNfZY5"
      }
    },
    {
      "cell_type": "code",
      "source": [
        "print('My favorite color is',my_list[0])"
      ],
      "metadata": {
        "id": "UwovROdbfaPh",
        "colab": {
          "base_uri": "https://localhost:8080/"
        },
        "outputId": "1c465f8e-7b4c-4e02-f8bb-2091a49567ab"
      },
      "execution_count": null,
      "outputs": [
        {
          "output_type": "stream",
          "name": "stdout",
          "text": [
            "My favorite color is Red\n"
          ]
        }
      ]
    },
    {
      "cell_type": "code",
      "source": [
        "print('I have {} pet(s)'.format(my_list[1]))"
      ],
      "metadata": {
        "id": "e1QesyWlfhej",
        "colab": {
          "base_uri": "https://localhost:8080/"
        },
        "outputId": "941396e1-21c5-4756-842a-2ffb905c0398"
      },
      "execution_count": null,
      "outputs": [
        {
          "output_type": "stream",
          "name": "stdout",
          "text": [
            "I have 2 pet(s)\n"
          ]
        }
      ]
    },
    {
      "cell_type": "code",
      "source": [
        "if my_list[2]==True:\n",
        "  print(\"I have previous programming experience\")\n",
        "else:\n",
        "  print(\"No previous Experience\")\n"
      ],
      "metadata": {
        "id": "KgPNewzefl1v",
        "colab": {
          "base_uri": "https://localhost:8080/"
        },
        "outputId": "3d4af957-2dbf-4a92-e11c-d270fdda5607"
      },
      "execution_count": null,
      "outputs": [
        {
          "output_type": "stream",
          "name": "stdout",
          "text": [
            "I have previous programming experience\n"
          ]
        }
      ]
    },
    {
      "cell_type": "markdown",
      "source": [
        "Q7: Add your favorite single digit number to the end of the list using the appropriate list method.\n"
      ],
      "metadata": {
        "id": "kbJpZUDwfpwy"
      }
    },
    {
      "cell_type": "code",
      "source": [
        "my_list.append(9)"
      ],
      "metadata": {
        "id": "qLjoKceVfrak"
      },
      "execution_count": null,
      "outputs": []
    },
    {
      "cell_type": "code",
      "source": [
        "my_list"
      ],
      "metadata": {
        "colab": {
          "base_uri": "https://localhost:8080/"
        },
        "id": "QgIUU8PQoMz4",
        "outputId": "47735e82-05ea-4a6e-da74-5d79d817b457"
      },
      "execution_count": null,
      "outputs": [
        {
          "output_type": "execute_result",
          "data": {
            "text/plain": [
              "['Red', 2, True, 9]"
            ]
          },
          "metadata": {},
          "execution_count": 32
        }
      ]
    },
    {
      "cell_type": "markdown",
      "source": [
        "Let's see if the number shows up in the list."
      ],
      "metadata": {
        "id": "WGFd2hCCfvYt"
      }
    },
    {
      "cell_type": "code",
      "source": [
        "my_list"
      ],
      "metadata": {
        "id": "d9BTcIzufxL9",
        "colab": {
          "base_uri": "https://localhost:8080/"
        },
        "outputId": "7f1a87f8-2fd3-47fa-f199-d63f58fb00c6"
      },
      "execution_count": null,
      "outputs": [
        {
          "output_type": "execute_result",
          "data": {
            "text/plain": [
              "['Red', 2, True, 9]"
            ]
          },
          "metadata": {},
          "execution_count": 33
        }
      ]
    },
    {
      "cell_type": "markdown",
      "source": [
        "Q8: Remove the first element of the list, using the appropriate list method."
      ],
      "metadata": {
        "id": "Pp8LN4-Gf0EM"
      }
    },
    {
      "cell_type": "code",
      "source": [
        "l1=['red', 'yellow', 'green']"
      ],
      "metadata": {
        "id": "uoIXu7apf_Ro"
      },
      "execution_count": null,
      "outputs": []
    },
    {
      "cell_type": "code",
      "source": [
        "l1.remove('red')"
      ],
      "metadata": {
        "id": "kOvM4APap0o2"
      },
      "execution_count": null,
      "outputs": []
    },
    {
      "cell_type": "code",
      "source": [
        "l1"
      ],
      "metadata": {
        "colab": {
          "base_uri": "https://localhost:8080/"
        },
        "id": "AkCx-69EqnGN",
        "outputId": "00675b78-445d-4cb4-8e25-6b7a330dbb28"
      },
      "execution_count": null,
      "outputs": [
        {
          "output_type": "execute_result",
          "data": {
            "text/plain": [
              "['yellow', 'green']"
            ]
          },
          "metadata": {},
          "execution_count": 42
        }
      ]
    },
    {
      "cell_type": "markdown",
      "source": [
        "Q9: Complete the print statement below to display the number of elements in my_list.\n"
      ],
      "metadata": {
        "id": "7mC6otBegCZH"
      }
    },
    {
      "cell_type": "code",
      "source": [
        "print(\"The list has {} elements.\".format(len(my_list)))"
      ],
      "metadata": {
        "id": "oj_0e21FgC1t",
        "colab": {
          "base_uri": "https://localhost:8080/"
        },
        "outputId": "ddf2f1b7-3877-4582-9889-e18d0ed4e1a3"
      },
      "execution_count": null,
      "outputs": [
        {
          "output_type": "stream",
          "name": "stdout",
          "text": [
            "The list has 4 elements.\n"
          ]
        }
      ]
    },
    {
      "cell_type": "markdown",
      "source": [
        "## Problem 3 - Conditions and loops\n",
        "\n",
        "Q10: Calculate and display the sum of all the numbers divisible by 7 between 18 and 534 i.e. 21+28+35+...+525+532.\n",
        "\n",
        "Hint: One way to do this is to loop over a range using for and use an if statement inside it."
      ],
      "metadata": {
        "id": "-4tlcm3ZgnGF"
      }
    },
    {
      "cell_type": "code",
      "source": [
        "sum=0"
      ],
      "metadata": {
        "id": "eHicz89Vg0en"
      },
      "execution_count": null,
      "outputs": []
    },
    {
      "cell_type": "code",
      "source": [
        "for num in range(18,534):\n",
        "  if num%7==0:\n",
        "    sum=sum+num\n",
        "   "
      ],
      "metadata": {
        "id": "rw0G5s05yGBL"
      },
      "execution_count": null,
      "outputs": []
    },
    {
      "cell_type": "code",
      "source": [
        "print('The sum of all the numbers divisible by 7 between 18 and 534 is', sum)"
      ],
      "metadata": {
        "id": "O33hcY5fg1iT",
        "colab": {
          "base_uri": "https://localhost:8080/"
        },
        "outputId": "0c3a4fbf-a9eb-4893-a9ca-7ac4566ecf5b"
      },
      "execution_count": null,
      "outputs": [
        {
          "output_type": "stream",
          "name": "stdout",
          "text": [
            "The sum of all the numbers divisible by 7 between 18 and 534 is 20461\n"
          ]
        }
      ]
    },
    {
      "cell_type": "markdown",
      "source": [
        "## Problem 4 - Flying to the Bahamas\n",
        "\n",
        "Q11: A travel company wants to fly a plane to the Bahamas. Flying the plane costs 5000 dollars. So far, 29 people have signed up for the trip. If the company charges 200 dollars per ticket, what is the profit made by the company?\n",
        "\n",
        "Fill in values or arithmetic expressions for the variables below.\n",
        "\n"
      ],
      "metadata": {
        "id": "AC6FM3ftgM7n"
      }
    },
    {
      "cell_type": "code",
      "source": [
        "cost_of_flying_plane = 5000"
      ],
      "metadata": {
        "id": "feYfsrF0gQgZ"
      },
      "execution_count": null,
      "outputs": []
    },
    {
      "cell_type": "code",
      "source": [
        "number_of_passengers = 29"
      ],
      "metadata": {
        "id": "Hq6RgCfzgU0S"
      },
      "execution_count": null,
      "outputs": []
    },
    {
      "cell_type": "code",
      "source": [
        "price_of_ticket =200"
      ],
      "metadata": {
        "id": "_hiuU_SCgX6L"
      },
      "execution_count": null,
      "outputs": []
    },
    {
      "cell_type": "code",
      "source": [
        "profit = (number_of_passengers*price_of_ticket)-cost_of_flying_plane"
      ],
      "metadata": {
        "id": "R3P583HHgaAT"
      },
      "execution_count": null,
      "outputs": []
    },
    {
      "cell_type": "code",
      "source": [
        "print('The company makes of a profit of {} dollars'.format(profit))"
      ],
      "metadata": {
        "id": "5ld6Vwe5gc2n",
        "colab": {
          "base_uri": "https://localhost:8080/"
        },
        "outputId": "ea4833a3-e2e0-4c47-fff3-0bc908989811"
      },
      "execution_count": null,
      "outputs": [
        {
          "output_type": "stream",
          "name": "stdout",
          "text": [
            "The company makes of a profit of 800 dollars\n"
          ]
        }
      ]
    },
    {
      "cell_type": "code",
      "source": [],
      "metadata": {
        "id": "JrEq3mz5Phrv"
      },
      "execution_count": null,
      "outputs": []
    },
    {
      "cell_type": "markdown",
      "source": [
        "## Problem 5 - Twitter Sentiment Analysis\n",
        "\n",
        "Are your ready to perform some Data Analysis with Python? In this problem, we'll analyze some fictional tweets and find out whether the overall sentiment of Twitter users is happy or sad. This is a simplified version of an important real world problem called sentiment analysis.\n",
        "\n",
        "Before we begin, we need a list of tweets to analyze. We're picking a small number of tweets here, but the exact same analysis can also be done for thousands, or even millions of tweets. The collection of data that we perform analysis on is often called a dataset."
      ],
      "metadata": {
        "id": "Khgcsoq_NT3R"
      }
    },
    {
      "cell_type": "code",
      "source": [
        "tweets = [\n",
        "    \"Wow, what a great day today!! #sunshine\",\n",
        "    \"I feel sad about the things going on around us. #covid19\",\n",
        "    \"I'm really excited to learn Python with @JovianML #zerotopandas\",\n",
        "    \"This is a really nice song. #linkinpark\",\n",
        "    \"The python programming language is useful for data science\",\n",
        "    \"Why do bad things happen to me?\",\n",
        "    \"Apple announces the release of the new iPhone 12. Fans are excited.\",\n",
        "    \"Spent my day with family!! #happy\",\n",
        "    \"Check out my blog post on common string operations in Python. #zerotopandas\",\n",
        "    \"Freecodecamp has great coding tutorials. #skillup\"\n",
        "]"
      ],
      "metadata": {
        "id": "xlZZr8XpMrNd"
      },
      "execution_count": null,
      "outputs": []
    },
    {
      "cell_type": "markdown",
      "source": [
        "Let's begin by answering a very simple but important question about our dataset."
      ],
      "metadata": {
        "id": "wI-VbbOhNkTE"
      }
    },
    {
      "cell_type": "markdown",
      "source": [
        "Q12: How many tweets does the dataset contain?"
      ],
      "metadata": {
        "id": "clZkuskoNnXJ"
      }
    },
    {
      "cell_type": "code",
      "source": [
        "number_of_tweet=print(len(tweets))"
      ],
      "metadata": {
        "id": "dPOfYat5NfzT",
        "colab": {
          "base_uri": "https://localhost:8080/"
        },
        "outputId": "853b2c62-9d48-4815-8fa0-caf835909864"
      },
      "execution_count": null,
      "outputs": [
        {
          "output_type": "stream",
          "name": "stdout",
          "text": [
            "10\n"
          ]
        }
      ]
    },
    {
      "cell_type": "markdown",
      "source": [
        "Let's create two lists of words: happy_words and sad_words. We will use these to check if a tweet is happy or sad."
      ],
      "metadata": {
        "id": "xMxP0jTUNtaZ"
      }
    },
    {
      "cell_type": "code",
      "source": [
        "happy_words = ['great', 'excited', 'happy', 'nice', 'wonderful', 'amazing', 'good', 'best']"
      ],
      "metadata": {
        "id": "3PBkaZqTNqgv"
      },
      "execution_count": null,
      "outputs": []
    },
    {
      "cell_type": "code",
      "source": [
        "sad_words = ['sad', 'bad', 'tragic', 'unhappy', 'worst']"
      ],
      "metadata": {
        "id": "O7HQuItONzuC"
      },
      "execution_count": null,
      "outputs": []
    },
    {
      "cell_type": "markdown",
      "source": [
        "To identify whether a tweet is happy, we can simply check if contains any of the words from happy_words. Here's an example:"
      ],
      "metadata": {
        "id": "eRPZztHuN3kI"
      }
    },
    {
      "cell_type": "code",
      "source": [
        "sample_tweet = tweets[0]"
      ],
      "metadata": {
        "id": "3pm1cLyuN36F"
      },
      "execution_count": null,
      "outputs": []
    },
    {
      "cell_type": "code",
      "source": [
        "sample_tweet"
      ],
      "metadata": {
        "id": "fhzT6FRhN7g_",
        "colab": {
          "base_uri": "https://localhost:8080/",
          "height": 36
        },
        "outputId": "85ef4ff0-4280-486e-bb73-fe6ba9d053ac"
      },
      "execution_count": null,
      "outputs": [
        {
          "output_type": "execute_result",
          "data": {
            "text/plain": [
              "'Wow, what a great day today!! #sunshine'"
            ],
            "application/vnd.google.colaboratory.intrinsic+json": {
              "type": "string"
            }
          },
          "metadata": {},
          "execution_count": 23
        }
      ]
    },
    {
      "cell_type": "code",
      "source": [],
      "metadata": {
        "id": "LKAbxSKlN-Kr"
      },
      "execution_count": null,
      "outputs": []
    },
    {
      "cell_type": "markdown",
      "source": [
        "Do you understand what we're doing above?\n",
        "\n",
        "For each word in the list of happy words, we check if is a part of the selected tweet. If the word is indded a part of the tweet, we set the variable is_tweet_happy to True."
      ],
      "metadata": {
        "id": "DaE1uYGyOG6k"
      }
    },
    {
      "cell_type": "code",
      "source": [
        "is_tweet_happy =False\n",
        "#get the word from happy_words\n",
        "for word in happy_words:\n",
        "    if word in sample_tweet:\n",
        "       is_tweet_happy=True \n",
        "print(is_tweet_happy)\n"
      ],
      "metadata": {
        "id": "c9KqjYXaN-1r",
        "colab": {
          "base_uri": "https://localhost:8080/"
        },
        "outputId": "bc839e51-f5b6-4436-8a5f-6aef50c7eb6f"
      },
      "execution_count": null,
      "outputs": [
        {
          "output_type": "stream",
          "name": "stdout",
          "text": [
            "True\n"
          ]
        }
      ]
    },
    {
      "cell_type": "markdown",
      "source": [
        "Q13: Determine the number of tweets in the dataset that can be classified as happy.\n",
        "\n"
      ],
      "metadata": {
        "id": "GX1gVTH6OUa7"
      }
    },
    {
      "cell_type": "markdown",
      "source": [
        "Hint: You'll need to use a loop inside another loop to do this. Use the code from the example shown above.\n",
        "\n"
      ],
      "metadata": {
        "id": "7X17G8umOgcd"
      }
    },
    {
      "cell_type": "code",
      "source": [
        "# store the final answer in this variable\n",
        "number_of_happy_tweets = 0\n",
        "\n",
        "# perform the calculations here\n",
        "for i in range(0,10):\n",
        "  for word in happy_words:\n",
        "    if word in tweets[i]:\n",
        "      is_tweet_happy=True\n",
        "      number_of_happy_tweets+=1"
      ],
      "metadata": {
        "id": "qXaWiQz8OVAU"
      },
      "execution_count": null,
      "outputs": []
    },
    {
      "cell_type": "code",
      "source": [
        "print(\"Number of happy tweets:\", number_of_happy_tweets)"
      ],
      "metadata": {
        "id": "Hr1IUM_5OjUD",
        "colab": {
          "base_uri": "https://localhost:8080/"
        },
        "outputId": "7b647123-d46a-4210-a67c-c3d19c72374e"
      },
      "execution_count": null,
      "outputs": [
        {
          "output_type": "stream",
          "name": "stdout",
          "text": [
            "Number of happy tweets: 6\n"
          ]
        }
      ]
    },
    {
      "cell_type": "markdown",
      "source": [
        "Q14: What fraction of the total number of tweets are happy?\n",
        "\n",
        "For example, if 2 out of 10 tweets are happy, then the answer is 2/10 i.e. 0.2.\n",
        "\n"
      ],
      "metadata": {
        "id": "zxpga5aiOn3e"
      }
    },
    {
      "cell_type": "code",
      "source": [
        "total_tweets=len(tweets)\n",
        "happy_fraction = number_of_happy_tweets/total_tweets"
      ],
      "metadata": {
        "id": "gLXwod8zOl7g"
      },
      "execution_count": null,
      "outputs": []
    },
    {
      "cell_type": "code",
      "source": [
        "print(\"The fraction of happy tweets is:\", happy_fraction)"
      ],
      "metadata": {
        "id": "lUUZDrc3OvMP",
        "colab": {
          "base_uri": "https://localhost:8080/"
        },
        "outputId": "23457224-5085-4012-d030-1a202aa3f3d1"
      },
      "execution_count": null,
      "outputs": [
        {
          "output_type": "stream",
          "name": "stdout",
          "text": [
            "The fraction of happy tweets is: 0.6\n"
          ]
        }
      ]
    },
    {
      "cell_type": "markdown",
      "source": [
        "To identify whether a tweet is sad, we can simply check if contains any of the words from sad_words.\n",
        "\n",
        "Q15: Determine the number of tweets in the dataset that can be classified as sad."
      ],
      "metadata": {
        "id": "EY0rjaIAOxhL"
      }
    },
    {
      "cell_type": "code",
      "source": [
        "# store the final answer in this variable\n",
        "number_of_sad_tweets = 0\n",
        "is_tweet_sad=0\n",
        "# perform the calculations here\n",
        "for i in range(0,10):\n",
        "  for word in sad_words:\n",
        "    if word in tweets[i]:\n",
        "      is_tweet_sad=True\n",
        "      number_of_sad_tweets+=1"
      ],
      "metadata": {
        "id": "CqeSJC13O2fJ"
      },
      "execution_count": null,
      "outputs": []
    },
    {
      "cell_type": "code",
      "source": [
        "print(\"Number of sad tweets:\", number_of_sad_tweets)"
      ],
      "metadata": {
        "id": "yR4MtERYO5nJ",
        "colab": {
          "base_uri": "https://localhost:8080/"
        },
        "outputId": "8bb012ca-a53e-4fcd-ffbf-7e0f2cf4bef2"
      },
      "execution_count": null,
      "outputs": [
        {
          "output_type": "stream",
          "name": "stdout",
          "text": [
            "Number of sad tweets: 2\n"
          ]
        }
      ]
    },
    {
      "cell_type": "code",
      "source": [
        "sad_fraction = number_of_sad_tweets/total_tweets"
      ],
      "metadata": {
        "id": "tlDvy2RkO7rc"
      },
      "execution_count": null,
      "outputs": []
    },
    {
      "cell_type": "code",
      "source": [
        "print(\"The fraction of sad tweets is:\", sad_fraction)"
      ],
      "metadata": {
        "id": "mvNMgxg6O-FG",
        "colab": {
          "base_uri": "https://localhost:8080/"
        },
        "outputId": "1fbc2fa3-3ab5-4f51-a0af-0df662a17644"
      },
      "execution_count": null,
      "outputs": [
        {
          "output_type": "stream",
          "name": "stdout",
          "text": [
            "The fraction of sad tweets is: 0.2\n"
          ]
        }
      ]
    }
  ]
}